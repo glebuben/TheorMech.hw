{
 "cells": [
  {
   "cell_type": "code",
   "execution_count": 31,
   "id": "9c99ad4d",
   "metadata": {},
   "outputs": [],
   "source": [
    "# For Google collab add these lines\n",
    "\n",
    "#from google.colab import output\n",
    "#output.enable_custom_widget_manager()"
   ]
  },
  {
   "cell_type": "code",
   "execution_count": 32,
   "id": "757614c7",
   "metadata": {},
   "outputs": [
    {
     "name": "stdout",
     "output_type": "stream",
     "text": [
      "Requirement already satisfied: ipympl in c:\\pycharmprojects\\hw 1\\venv\\lib\\site-packages (0.9.2)\n",
      "Requirement already satisfied: traitlets<6 in c:\\pycharmprojects\\hw 1\\venv\\lib\\site-packages (from ipympl) (5.9.0)\n",
      "Requirement already satisfied: matplotlib<4,>=3.4.0 in c:\\pycharmprojects\\hw 1\\venv\\lib\\site-packages (from ipympl) (3.6.3)\n",
      "Requirement already satisfied: ipython<9 in c:\\pycharmprojects\\hw 1\\venv\\lib\\site-packages (from ipympl) (8.9.0)\n",
      "Requirement already satisfied: ipywidgets<9,>=7.6.0 in c:\\pycharmprojects\\hw 1\\venv\\lib\\site-packages (from ipympl) (8.0.4)\n",
      "Requirement already satisfied: pillow in c:\\pycharmprojects\\hw 1\\venv\\lib\\site-packages (from ipympl) (9.4.0)\n",
      "Requirement already satisfied: numpy in c:\\pycharmprojects\\hw 1\\venv\\lib\\site-packages (from ipympl) (1.24.1)\n",
      "Requirement already satisfied: ipython-genutils in c:\\pycharmprojects\\hw 1\\venv\\lib\\site-packages (from ipympl) (0.2.0)\n",
      "Requirement already satisfied: pygments>=2.4.0 in c:\\pycharmprojects\\hw 1\\venv\\lib\\site-packages (from ipython<9->ipympl) (2.14.0)\n",
      "Requirement already satisfied: matplotlib-inline in c:\\pycharmprojects\\hw 1\\venv\\lib\\site-packages (from ipython<9->ipympl) (0.1.6)\n",
      "Requirement already satisfied: backcall in c:\\pycharmprojects\\hw 1\\venv\\lib\\site-packages (from ipython<9->ipympl) (0.2.0)\n",
      "Requirement already satisfied: decorator in c:\\pycharmprojects\\hw 1\\venv\\lib\\site-packages (from ipython<9->ipympl) (5.1.1)\n",
      "Requirement already satisfied: prompt-toolkit<3.1.0,>=3.0.30 in c:\\pycharmprojects\\hw 1\\venv\\lib\\site-packages (from ipython<9->ipympl) (3.0.36)\n",
      "Requirement already satisfied: colorama in c:\\pycharmprojects\\hw 1\\venv\\lib\\site-packages (from ipython<9->ipympl) (0.4.6)\n",
      "Requirement already satisfied: pickleshare in c:\\pycharmprojects\\hw 1\\venv\\lib\\site-packages (from ipython<9->ipympl) (0.7.5)\n",
      "Requirement already satisfied: stack-data in c:\\pycharmprojects\\hw 1\\venv\\lib\\site-packages (from ipython<9->ipympl) (0.6.2)\n",
      "Requirement already satisfied: jedi>=0.16 in c:\\pycharmprojects\\hw 1\\venv\\lib\\site-packages (from ipython<9->ipympl) (0.18.2)\n",
      "Requirement already satisfied: widgetsnbextension~=4.0 in c:\\pycharmprojects\\hw 1\\venv\\lib\\site-packages (from ipywidgets<9,>=7.6.0->ipympl) (4.0.5)\n",
      "Requirement already satisfied: jupyterlab-widgets~=3.0 in c:\\pycharmprojects\\hw 1\\venv\\lib\\site-packages (from ipywidgets<9,>=7.6.0->ipympl) (3.0.5)\n",
      "Requirement already satisfied: ipykernel>=4.5.1 in c:\\pycharmprojects\\hw 1\\venv\\lib\\site-packages (from ipywidgets<9,>=7.6.0->ipympl) (6.21.1)\n",
      "Requirement already satisfied: cycler>=0.10 in c:\\pycharmprojects\\hw 1\\venv\\lib\\site-packages (from matplotlib<4,>=3.4.0->ipympl) (0.11.0)\n",
      "Requirement already satisfied: fonttools>=4.22.0 in c:\\pycharmprojects\\hw 1\\venv\\lib\\site-packages (from matplotlib<4,>=3.4.0->ipympl) (4.38.0)\n",
      "Requirement already satisfied: python-dateutil>=2.7 in c:\\pycharmprojects\\hw 1\\venv\\lib\\site-packages (from matplotlib<4,>=3.4.0->ipympl) (2.8.2)\n",
      "Requirement already satisfied: contourpy>=1.0.1 in c:\\pycharmprojects\\hw 1\\venv\\lib\\site-packages (from matplotlib<4,>=3.4.0->ipympl) (1.0.7)\n",
      "Requirement already satisfied: pyparsing>=2.2.1 in c:\\pycharmprojects\\hw 1\\venv\\lib\\site-packages (from matplotlib<4,>=3.4.0->ipympl) (3.0.9)\n",
      "Requirement already satisfied: packaging>=20.0 in c:\\pycharmprojects\\hw 1\\venv\\lib\\site-packages (from matplotlib<4,>=3.4.0->ipympl) (23.0)\n",
      "Requirement already satisfied: kiwisolver>=1.0.1 in c:\\pycharmprojects\\hw 1\\venv\\lib\\site-packages (from matplotlib<4,>=3.4.0->ipympl) (1.4.4)\n",
      "Requirement already satisfied: pyzmq>=17 in c:\\pycharmprojects\\hw 1\\venv\\lib\\site-packages (from ipykernel>=4.5.1->ipywidgets<9,>=7.6.0->ipympl) (25.0.0)\n",
      "Requirement already satisfied: jupyter-core!=5.0.*,>=4.12 in c:\\pycharmprojects\\hw 1\\venv\\lib\\site-packages (from ipykernel>=4.5.1->ipywidgets<9,>=7.6.0->ipympl) (5.2.0)\n",
      "Requirement already satisfied: jupyter-client>=6.1.12 in c:\\pycharmprojects\\hw 1\\venv\\lib\\site-packages (from ipykernel>=4.5.1->ipywidgets<9,>=7.6.0->ipympl) (8.0.2)\n",
      "Requirement already satisfied: tornado>=6.1 in c:\\pycharmprojects\\hw 1\\venv\\lib\\site-packages (from ipykernel>=4.5.1->ipywidgets<9,>=7.6.0->ipympl) (6.2)\n",
      "Requirement already satisfied: comm>=0.1.1 in c:\\pycharmprojects\\hw 1\\venv\\lib\\site-packages (from ipykernel>=4.5.1->ipywidgets<9,>=7.6.0->ipympl) (0.1.2)\n",
      "Requirement already satisfied: psutil in c:\\pycharmprojects\\hw 1\\venv\\lib\\site-packages (from ipykernel>=4.5.1->ipywidgets<9,>=7.6.0->ipympl) (5.9.4)\n",
      "Requirement already satisfied: debugpy>=1.6.5 in c:\\pycharmprojects\\hw 1\\venv\\lib\\site-packages (from ipykernel>=4.5.1->ipywidgets<9,>=7.6.0->ipympl) (1.6.6)\n",
      "Requirement already satisfied: nest-asyncio in c:\\pycharmprojects\\hw 1\\venv\\lib\\site-packages (from ipykernel>=4.5.1->ipywidgets<9,>=7.6.0->ipympl) (1.5.6)\n",
      "Requirement already satisfied: parso<0.9.0,>=0.8.0 in c:\\pycharmprojects\\hw 1\\venv\\lib\\site-packages (from jedi>=0.16->ipython<9->ipympl) (0.8.3)\n",
      "Requirement already satisfied: wcwidth in c:\\pycharmprojects\\hw 1\\venv\\lib\\site-packages (from prompt-toolkit<3.1.0,>=3.0.30->ipython<9->ipympl) (0.2.6)\n",
      "Requirement already satisfied: six>=1.5 in c:\\pycharmprojects\\hw 1\\venv\\lib\\site-packages (from python-dateutil>=2.7->matplotlib<4,>=3.4.0->ipympl) (1.16.0)\n",
      "Requirement already satisfied: asttokens>=2.1.0 in c:\\pycharmprojects\\hw 1\\venv\\lib\\site-packages (from stack-data->ipython<9->ipympl) (2.2.1)\n",
      "Requirement already satisfied: pure-eval in c:\\pycharmprojects\\hw 1\\venv\\lib\\site-packages (from stack-data->ipython<9->ipympl) (0.2.2)\n",
      "Requirement already satisfied: executing>=1.2.0 in c:\\pycharmprojects\\hw 1\\venv\\lib\\site-packages (from stack-data->ipython<9->ipympl) (1.2.0)\n",
      "Requirement already satisfied: importlib-metadata>=4.8.3 in c:\\pycharmprojects\\hw 1\\venv\\lib\\site-packages (from jupyter-client>=6.1.12->ipykernel>=4.5.1->ipywidgets<9,>=7.6.0->ipympl) (6.0.0)\n",
      "Requirement already satisfied: pywin32>=1.0 in c:\\pycharmprojects\\hw 1\\venv\\lib\\site-packages (from jupyter-core!=5.0.*,>=4.12->ipykernel>=4.5.1->ipywidgets<9,>=7.6.0->ipympl) (305)\n",
      "Requirement already satisfied: platformdirs>=2.5 in c:\\pycharmprojects\\hw 1\\venv\\lib\\site-packages (from jupyter-core!=5.0.*,>=4.12->ipykernel>=4.5.1->ipywidgets<9,>=7.6.0->ipympl) (3.0.0)\n",
      "Requirement already satisfied: zipp>=0.5 in c:\\pycharmprojects\\hw 1\\venv\\lib\\site-packages (from importlib-metadata>=4.8.3->jupyter-client>=6.1.12->ipykernel>=4.5.1->ipywidgets<9,>=7.6.0->ipympl) (3.12.1)\n",
      "Note: you may need to restart the kernel to use updated packages.\n"
     ]
    },
    {
     "name": "stderr",
     "output_type": "stream",
     "text": [
      "WARNING: You are using pip version 21.3.1; however, version 23.0 is available.\n",
      "You should consider upgrading via the 'C:\\PycharmProjects\\HW 1\\venv\\Scripts\\python.exe -m pip install --upgrade pip' command.\n"
     ]
    }
   ],
   "source": [
    "# remove \"capture\" line, if you have any troubles with packages, and try to run again\n",
    "%pip install ipympl"
   ]
  },
  {
   "cell_type": "code",
   "execution_count": 33,
   "id": "460fbd48",
   "metadata": {},
   "outputs": [],
   "source": [
    "%matplotlib widget"
   ]
  },
  {
   "cell_type": "code",
   "execution_count": 34,
   "id": "653e9186",
   "metadata": {},
   "outputs": [],
   "source": [
    "import matplotlib\n",
    "import matplotlib.patches as pltp\n",
    "import matplotlib.pyplot as plt\n",
    "import numpy as np\n",
    "import sympy as sp\n",
    "from matplotlib import animation\n",
    "from matplotlib.animation import FuncAnimation, PillowWriter\n",
    "from numpy import pi, array\n",
    "from sympy import Symbol, Ellipse, Point, Line"
   ]
  },
  {
   "cell_type": "markdown",
   "id": "9e138d0a",
   "metadata": {},
   "source": [
    "# Task 1"
   ]
  },
  {
   "cell_type": "code",
   "execution_count": 35,
   "id": "ddb42e6b",
   "metadata": {},
   "outputs": [],
   "source": [
    "# Parameters for scaling\n",
    "s1, s2 = 1, 2"
   ]
  },
  {
   "cell_type": "code",
   "execution_count": 36,
   "id": "3e52f56e",
   "metadata": {},
   "outputs": [],
   "source": [
    "# Time array\n",
    "t = np.linspace(-5, 5, 100)\n",
    "\n",
    "# Parameters arrays\n",
    "x, y = 3 * t, 4 * t ** 2 + 1\n",
    "v_x, v_y = 3 + (t * 0), 8 * t\n",
    "v = (v_x ** 2 + v_y ** 2) ** 0.5\n",
    "a_x, a_y = 0 + (t * 0), 8 + (t * 0)\n",
    "a = (a_x ** 2 + a_y ** 2) ** 0.5\n",
    "norm_a_x, norm_a_y = - 192 * t / (64 * t ** 2 + 9), 8 - (512 * t ** 2) / (64 * t ** 2 + 9)\n",
    "norm_a = 24 / ((9 + 64 * t ** 2) ** 0.5)\n",
    "tan_a_x, tan_a_y = 192 * t / (64 * t ** 2 + 9), (512 * t ** 2) / (64 * t ** 2 + 9)\n",
    "tan_a = 64 * abs(t) / ((9 + 64 * t ** 2) ** 0.5)\n",
    "k = 24 / ((9 + 64 * t ** 2) ** 1.5)\n",
    "\n",
    "# data set for animation\n",
    "dataSet = np.array([x, y, v, a, norm_a, tan_a])"
   ]
  },
  {
   "cell_type": "code",
   "execution_count": 37,
   "id": "039a8b84",
   "metadata": {},
   "outputs": [
    {
     "data": {
      "text/plain": "Canvas(toolbar=Toolbar(toolitems=[('Home', 'Reset original view', 'home', 'home'), ('Back', 'Back to previous …",
      "image/png": "[encoded data removed]",
      "text/html": "\n            <div style=\"display: inline-block;\">\n                <div class=\"jupyter-widgets widget-label\" style=\"text-align: center;\">\n                    Figure\n                </div>\n                <img src='data:image/png;base64,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' width=640.0/>\n            </div>\n        ",
      "application/vnd.jupyter.widget-view+json": {
       "version_major": 2,
       "version_minor": 0,
       "model_id": "e2ea0aa60e8c44059573720003a211fa"
      }
     },
     "metadata": {},
     "output_type": "display_data"
    }
   ],
   "source": [
    "# Initializing plot\n",
    "numDataPoints = len(t)\n",
    "fig = plt.figure()\n",
    "trajectory = fig.add_subplot(122)\n",
    "velocity = fig.add_subplot(421)\n",
    "acceleration = fig.add_subplot(423)\n",
    "normal_acc = fig.add_subplot(425)\n",
    "tan_acc = fig.add_subplot(427)"
   ]
  },
  {
   "cell_type": "code",
   "execution_count": 38,
   "id": "2355b3f4",
   "metadata": {},
   "outputs": [],
   "source": [
    "def animate_func(num):\n",
    "    trajectory.clear()\n",
    "    velocity.clear()\n",
    "    acceleration.clear()\n",
    "    tan_acc.clear()\n",
    "    normal_acc.clear()\n",
    "\n",
    "    # Plotting everything for ax graph\n",
    "    trajectory.plot(dataSet[0, :num + 1], dataSet[1, :num + 1],\n",
    "                    c='blue')  # graph\n",
    "    trajectory.scatter(dataSet[0, num], dataSet[1, num],\n",
    "                       c='blue', marker='o')  # current point\n",
    "    trajectory.arrow(dataSet[0, num], dataSet[1, num], s1 * v_x[num], s1 * v_y[num], facecolor='red',\n",
    "                     length_includes_head=True, head_width=2, width=0.4)  # velocity vector\n",
    "    trajectory.arrow(dataSet[0, num], dataSet[1, num], s2 * a_x[num], s2 * a_y[num], facecolor='purple',\n",
    "                     length_includes_head=True, head_width=1, width=0.4)  # acceleration vector\n",
    "    trajectory.arrow(dataSet[0, num], dataSet[1, num], s2 * norm_a_x[num], s2 * norm_a_y[num], facecolor='green',\n",
    "                     length_includes_head=True, head_width=1, width=0.4)  # normal acceleration vector\n",
    "    trajectory.arrow(dataSet[0, num], dataSet[1, num], s1 * tan_a_x[num], s1 * tan_a_y[num], facecolor='black',\n",
    "                     length_includes_head=True, head_width=1, width=0.4)  # tangential acceleration vector\n",
    "    trajectory.plot(dataSet[0, 0], dataSet[1, 0],\n",
    "                    c='black', marker='o')  # initial point\n",
    "    trajectory.set_xlim([-20, 20])  # axes limits\n",
    "    trajectory.set_ylim([0, 130])\n",
    "\n",
    "    # Specification of graph notation\n",
    "    trajectory.add_patch(pltp.Rectangle((17, 125), 1, 3, color='blue'))\n",
    "    trajectory.text(4.5, 125, 'trajectory')\n",
    "    trajectory.add_patch(pltp.Rectangle((17, 120), 1, 3, color='red'))\n",
    "    trajectory.text(7, 120, 'velocity')\n",
    "    trajectory.add_patch(pltp.Rectangle((17, 115), 1, 3, color='purple'))\n",
    "    trajectory.text(1, 115, 'acceleration')\n",
    "    trajectory.add_patch(pltp.Rectangle((17, 110), 1, 3, color='green'))\n",
    "    trajectory.text(-8, 110, 'normal acceleration')\n",
    "    trajectory.add_patch(pltp.Rectangle((17, 105), 1, 3, color='black'))\n",
    "    trajectory.text(-12, 105, 'tangential acceleration')\n",
    "\n",
    "    # Plotting everything for velocity graph\n",
    "    velocity.plot(t[:num + 1], dataSet[2, :num + 1], c='grey')  # graph\n",
    "    velocity.scatter(t[num], dataSet[2, num],\n",
    "                     c='grey', marker='o')  # current point\n",
    "    velocity.plot(t[0], dataSet[2, 0],\n",
    "                  c='black', marker='o')  # initial point\n",
    "    velocity.set_xlim([-6, 6])  # axes limits\n",
    "    velocity.set_ylim([0, 50])\n",
    "    velocity.text(-5.8, 1.5, 'v = ' + str(np.round(dataSet[2, num], decimals=2)) + '\\nVelocity')  # graph title\n",
    "    velocity.set_xlabel('t')\n",
    "    velocity.set_ylabel('v(t)')\n",
    "\n",
    "    # Plotting everything for acceleration graph\n",
    "    acceleration.plot(t[:num + 1], dataSet[3, :num + 1], c='grey')  # graph\n",
    "    acceleration.scatter(t[num], dataSet[3, num],\n",
    "                         c='grey', marker='o')  # current point\n",
    "    acceleration.plot(t[0], dataSet[3, 0],\n",
    "                      c='black', marker='o')  # initial point\n",
    "    acceleration.set_xlim([-6, 6])  # axes limits\n",
    "    acceleration.set_ylim([0, 10])\n",
    "    acceleration.text(-5.8, 1.5, 'a = ' + str(np.round(dataSet[3, num], decimals=2)) + '\\nAcceleration')  # graph title\n",
    "    acceleration.set_xlabel('t')\n",
    "    acceleration.set_ylabel('a(t)')\n",
    "\n",
    "    # Plotting everything for normal acceleration graph\n",
    "    normal_acc.plot(t[:num + 1], dataSet[4, :num + 1], c='grey')  # graph\n",
    "    normal_acc.scatter(t[num], dataSet[4, num],\n",
    "                       c='grey', marker='o')  # current point\n",
    "    normal_acc.plot(t[0], dataSet[4, 0],\n",
    "                    c='black', marker='o')  # initial point\n",
    "    normal_acc.set_xlim([-6, 6])  # axes limits\n",
    "    normal_acc.set_ylim([0, 10])\n",
    "    normal_acc.text(-5.8, 6.5, 'norm_a = ' + str(np.round(dataSet[4, num], decimals=2)) + '\\nNormal acceleration')\n",
    "    # graph title\n",
    "    normal_acc.set_xlabel('t')\n",
    "    normal_acc.set_ylabel('norm_a(t)')\n",
    "\n",
    "    # Plotting everything for tangential acceleration graph\n",
    "    tan_acc.plot(t[:num + 1], dataSet[5, :num + 1], c='grey')  # graph\n",
    "    tan_acc.scatter(t[num], dataSet[5, num],\n",
    "                    c='grey', marker='o')  # current point\n",
    "    tan_acc.plot(t[0], dataSet[5, 0],\n",
    "                 c='black', marker='o')  # initial point\n",
    "    tan_acc.set_xlim([-6, 6])  # axes limits\n",
    "    tan_acc.set_ylim([0, 10])\n",
    "    tan_acc.text(-5.8, 1.5, 'tan_a = ' + str(np.round(dataSet[5, num], decimals=2)) + '\\nTangential acceleration')\n",
    "    # graph title\n",
    "    tan_acc.set_xlabel('t')\n",
    "    tan_acc.set_ylabel('tan_a(t)')\n",
    "\n",
    "    # Graph title + timer + change in coordinates + curvature\n",
    "    trajectory.set_title('ax \\nTime = ' + str(np.round(t[num], decimals=2)) + ' sec'\n",
    "                         + '\\n (x, y) = (' + str(np.round(dataSet[0, num], decimals=2)) + ', ' +\n",
    "                         str(np.round(dataSet[1, num], decimals=2)) + ')' +\n",
    "                         '\\n Curvature(κ) = ' + str(np.round(k[num], decimals=5)))\n",
    "    trajectory.set_xlabel('x')\n",
    "    trajectory.set_ylabel('y')"
   ]
  },
  {
   "cell_type": "code",
   "execution_count": 39,
   "id": "fccb1737",
   "metadata": {},
   "outputs": [],
   "source": [
    "# Saving animation\n",
    "line_ani = animation.FuncAnimation(fig, animate_func, interval=100,\n",
    "                                   frames=numDataPoints)\n",
    "\n",
    "writergif = animation.PillowWriter(fps=60)\n",
    "line_ani.save(\"task1.gif\", dpi=300, writer=writergif)\n",
    "# Closing all unclosed plots\n",
    "plt.close('all')"
   ]
  },
  {
   "cell_type": "markdown",
   "id": "e58f9236",
   "metadata": {},
   "source": [
    "# Task 2"
   ]
  },
  {
   "cell_type": "code",
   "execution_count": 40,
   "id": "c0968f20",
   "metadata": {},
   "outputs": [],
   "source": [
    "# Given constants\n",
    "OA = OP = 25\n",
    "AC = 20\n",
    "AB = 80\n",
    "w = 1"
   ]
  },
  {
   "cell_type": "code",
   "execution_count": 41,
   "outputs": [],
   "source": [
    "# Parameters for simulation\n",
    "t = np.linspace(0, 2 * np.pi, 100)\n",
    "a = Symbol('a')"
   ],
   "metadata": {
    "collapsed": false
   }
  },
  {
   "cell_type": "code",
   "execution_count": 42,
   "outputs": [],
   "source": [
    "# Points of the initial position\n",
    "O = array([0, 0])\n",
    "P = array([0, OP])\n",
    "B_i = array([-AB * np.sin(pi / 3), OP - AB * np.cos(pi / 3)])"
   ],
   "metadata": {
    "collapsed": false
   }
  },
  {
   "cell_type": "code",
   "execution_count": 43,
   "outputs": [],
   "source": [
    "# Obtained trajectories, velocities and accelerations\n",
    "A = OA * Point([-sp.sin(a), sp.cos(a)])\n",
    "B = Ellipse(A, AB, AB).intersection(Line(Point(P), Point(B_i)))[0]\n",
    "C = A + AC / AB * (B - A)\n",
    "points_sympy = [[A[0], A[1]], [B[0], B[1]], [C[0], C[1]]]\n",
    "velocities_sympy = [[sp.diff(i[0]), sp.diff(i[1])] for i in points_sympy]\n",
    "accelerations_sympy = [[sp.diff(i[0]), sp.diff(i[1])] for i in velocities_sympy]"
   ],
   "metadata": {
    "collapsed": false
   }
  },
  {
   "cell_type": "code",
   "execution_count": 44,
   "outputs": [
    {
     "data": {
      "text/plain": "Canvas(toolbar=Toolbar(toolitems=[('Home', 'Reset original view', 'home', 'home'), ('Back', 'Back to previous …",
      "image/png": "[encoded data removed]",
      "text/html": "\n            <div style=\"display: inline-block;\">\n                <div class=\"jupyter-widgets widget-label\" style=\"text-align: center;\">\n                    Figure\n                </div>\n                <img src='data:image/png;base64,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' width=640.0/>\n            </div>\n        ",
      "application/vnd.jupyter.widget-view+json": {
       "version_major": 2,
       "version_minor": 0,
       "model_id": "1f5dad59bc78455187ad3ddda24bcd9a"
      }
     },
     "metadata": {},
     "output_type": "display_data"
    }
   ],
   "source": [
    "# Plot settings\n",
    "fig, ax = plt.subplots()\n",
    "ax.set_aspect(\"equal\")"
   ],
   "metadata": {
    "collapsed": false
   }
  },
  {
   "cell_type": "code",
   "execution_count": 45,
   "outputs": [],
   "source": [
    "# Animation\n",
    "def animate_func(frame):\n",
    "    # Substitute frame into values introduced by sympy\n",
    "    points = [[float(i[0].subs(a, frame).evalf()), float(i[1].subs(a, frame).evalf())]\n",
    "              for i in points_sympy]\n",
    "    velocities = [[float(i[0].subs(a, frame).evalf()), float(i[1].subs(a, frame).evalf())]\n",
    "                  for i in velocities_sympy]\n",
    "    accelerations = [[float(i[0].subs(a, frame).evalf()), float(i[1].subs(a, frame).evalf())]\n",
    "                     for i in accelerations_sympy]\n",
    "    tan_a = [np.array(velocities[i]) * (np.dot(accelerations[i], velocities[i]) / np.linalg.norm(velocities[i]) ** 2)\n",
    "             for i in range(3)]\n",
    "    norm_a = [np.asarray(accelerations[i]) - np.asarray(tan_a[i]) for i in range(3)]\n",
    "\n",
    "    ax.clear()\n",
    "    ax.set_xlim(-130, 130)\n",
    "    ax.set_ylim(-130, 130)\n",
    "    plt.title('Simulation of Task 2')\n",
    "    ax.add_patch(pltp.Rectangle((points[1][0] - 10, points[1][1] - 5), 20, 10, angle=30, rotation_point='center',\n",
    "                                color='grey'))\n",
    "\n",
    "    # All meaningful points\n",
    "    for i in [points[0], points[1], points[2], O, P, B_i]:\n",
    "        plt.plot(i[0], i[1], markersize=3, markeredgecolor=\"black\", markerfacecolor=\"black\")\n",
    "\n",
    "    # All lines\n",
    "    plt.plot([P[0], points[1][0]], [P[1], points[1][1]], linestyle=\"dashed\", linewidth=0.7, color=\"blue\"),\n",
    "    plt.plot([P[0], O[0]], [P[1], O[1]], linestyle=\"dashed\", linewidth=0.7, color=\"blue\"),\n",
    "    plt.plot([points[0][0], points[1][0]], [points[0][1], points[1][1]], linewidth=0.7, color=\"blue\"),\n",
    "    plt.plot([O[0], points[0][0]], [O[1], points[0][1]], linewidth=0.7, color=\"blue\")\n",
    "\n",
    "    # Points names\n",
    "    ax.text(points[0][0], points[0][1] + 3, 'A', fontsize=10)\n",
    "    ax.text(points[1][0], points[1][1] + 3, 'B', fontsize=10)\n",
    "    ax.text(points[2][0], points[2][1] + 3, 'C', fontsize=10)\n",
    "    ax.text(O[0], O[1] + 3, 'O', fontsize=10)\n",
    "    ax.text(P[0], P[1] + 3, 'P', fontsize=10)\n",
    "    ax.text(B_i[0], B_i[1] + 3, '$B_i$', fontsize=10)\n",
    "\n",
    "    # Velocity vectors\n",
    "    plt.quiver([points[0][0]], [points[0][1]], [velocities[0][0]], [velocities[0][1]],\n",
    "               color=\"red\", scale=1, scale_units='xy')\n",
    "    plt.quiver([points[1][0]], [points[1][1]], [velocities[1][0]], [velocities[1][1]],\n",
    "               color=\"red\", scale=1, scale_units='xy')\n",
    "    plt.quiver([points[2][0]], [points[2][1]], [velocities[2][0]], [velocities[2][1]],\n",
    "               color=\"red\", scale=1, scale_units='xy')\n",
    "\n",
    "    # Total acceleration vectors\n",
    "    plt.quiver([points[0][0]], [points[0][1]], [accelerations[0][0]], [accelerations[0][1]],\n",
    "               color=\"purple\", scale=1, scale_units='xy')\n",
    "    plt.quiver([points[1][0]], [points[1][1]], [accelerations[1][0]], [accelerations[1][1]],\n",
    "               color=\"purple\", scale=1, scale_units='xy')\n",
    "    plt.quiver([points[2][0]], [points[2][1]], [accelerations[2][0]], [accelerations[2][1]],\n",
    "               color=\"purple\", scale=1, scale_units='xy')\n",
    "\n",
    "    # Normal acceleration vectors\n",
    "    plt.quiver([points[0][0]], [points[0][1]], [norm_a[0][0]], [norm_a[0][1]],\n",
    "               color=\"green\", scale=1, scale_units='xy')\n",
    "    plt.quiver([points[2][0]], [points[2][1]], [norm_a[2][0]], [norm_a[2][1]],\n",
    "               color=\"green\", scale=1, scale_units='xy')\n",
    "\n",
    "    # Tangential acceleration vectors\n",
    "    plt.quiver([points[0][0]], [points[0][1]], [tan_a[0][0]], [tan_a[0][1]],\n",
    "               color=\"black\", scale=1, scale_units='xy')\n",
    "    plt.quiver([points[1][0]], [points[1][1]], [tan_a[1][0]], [tan_a[1][1]],\n",
    "               color=\"black\", scale=1, scale_units='xy')\n",
    "    plt.quiver([points[2][0]], [points[2][1]], [tan_a[2][0]], [tan_a[2][1]],\n",
    "               color=\"black\", scale=1, scale_units='xy')\n",
    "\n",
    "    # Specification of graph notation\n",
    "    ax.add_patch(pltp.Rectangle((50, 122), 6, 3, color='blue'))\n",
    "    ax.text(60, 122, 'trajectory')\n",
    "    ax.add_patch(pltp.Rectangle((50, 115), 6, 3, color='red'))\n",
    "    ax.text(60, 115, 'velocity')\n",
    "    ax.add_patch(pltp.Rectangle((50, 108), 6, 3, color='purple'))\n",
    "    ax.text(60, 108, 'acceleration')\n",
    "    ax.add_patch(pltp.Rectangle((50, 101), 6, 3, color='green'))\n",
    "    ax.text(60, 101, 'normal acceleration')\n",
    "    ax.add_patch(pltp.Rectangle((50, 94), 6, 3, color='black'))\n",
    "    ax.text(60, 94, 'tangential acceleration')"
   ],
   "metadata": {
    "collapsed": false
   }
  },
  {
   "cell_type": "code",
   "execution_count": 46,
   "outputs": [],
   "source": [
    "anim = FuncAnimation(fig, animate_func, frames=t)\n",
    "# Saving animation\n",
    "anim.save('task2.gif', dpi=300, writer=PillowWriter(fps=60))\n",
    "# Closing all unclosed plots\n",
    "plt.close('all')"
   ],
   "metadata": {
    "collapsed": false
   }
  }
 ],
 "metadata": {
  "kernelspec": {
   "display_name": "Python 3 (ipykernel)",
   "language": "python",
   "name": "python3"
  },
  "language_info": {
   "codemirror_mode": {
    "name": "ipython",
    "version": 3
   },
   "file_extension": ".py",
   "mimetype": "text/x-python",
   "name": "python",
   "nbconvert_exporter": "python",
   "pygments_lexer": "ipython3",
   "version": "3.9.13"
  }
 },
 "nbformat": 4,
 "nbformat_minor": 5
}
