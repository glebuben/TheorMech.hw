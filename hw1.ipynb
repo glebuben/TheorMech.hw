{
 "cells": [
  {
   "cell_type": "code",
   "execution_count": null,
   "id": "9c99ad4d",
   "metadata": {},
   "outputs": [],
   "source": [
    "# For Google collab add these lines\n",
    "\n",
    "#from google.colab import output\n",
    "#output.enable_custom_widget_manager()"
   ]
  },
  {
   "cell_type": "code",
   "execution_count": null,
   "id": "757614c7",
   "metadata": {},
   "outputs": [],
   "source": [
    "# remove \"capture\" line, if you have any troubles with packages, and try to run again\n",
    "%%capture\n",
    "%pip install ipympl"
   ]
  },
  {
   "cell_type": "code",
   "execution_count": null,
   "id": "460fbd48",
   "metadata": {},
   "outputs": [],
   "source": [
    "%matplotlib widget"
   ]
  },
  {
   "cell_type": "code",
   "execution_count": null,
   "id": "653e9186",
   "metadata": {},
   "outputs": [],
   "source": [
    "import matplotlib\n",
    "import matplotlib.patches as pltp\n",
    "import matplotlib.pyplot as plt\n",
    "import numpy as np\n",
    "import sympy as sp\n",
    "from matplotlib import animation\n",
    "from matplotlib.animation import FuncAnimation, PillowWriter\n",
    "from numpy import pi, array\n",
    "from sympy import Symbol, Ellipse, Point, Line"
   ]
  },
  {
   "cell_type": "markdown",
   "id": "9e138d0a",
   "metadata": {},
   "source": [
    "# Task 1"
   ]
  },
  {
   "cell_type": "code",
   "execution_count": null,
   "id": "ddb42e6b",
   "metadata": {},
   "outputs": [],
   "source": [
    "# Parameters for scaling\n",
    "s1, s2 = 1, 2"
   ]
  },
  {
   "cell_type": "code",
   "execution_count": null,
   "id": "3e52f56e",
   "metadata": {},
   "outputs": [],
   "source": [
    "# Time array\n",
    "t = np.linspace(-5, 5, 100)\n",
    "\n",
    "# Parameters arrays\n",
    "x, y = 3 * t, 4 * t ** 2 + 1\n",
    "v_x, v_y = 3 + (t * 0), 8 * t\n",
    "v = (v_x ** 2 + v_y ** 2) ** 0.5\n",
    "a_x, a_y = 0 + (t * 0), 8 + (t * 0)\n",
    "a = (a_x ** 2 + a_y ** 2) ** 0.5\n",
    "norm_a_x, norm_a_y = - 192 * t / (64 * t ** 2 + 9), 8 - (512 * t ** 2) / (64 * t ** 2 + 9)\n",
    "norm_a = 24 / ((9 + 64 * t ** 2) ** 0.5)\n",
    "tan_a_x, tan_a_y = 192 * t / (64 * t ** 2 + 9), (512 * t ** 2) / (64 * t ** 2 + 9)\n",
    "tan_a = 64 * abs(t) / ((9 + 64 * t ** 2) ** 0.5)\n",
    "k = 24 / ((9 + 64 * t ** 2) ** 1.5)\n",
    "\n",
    "# data set for animation\n",
    "dataSet = np.array([x, y, v, a, norm_a, tan_a])"
   ]
  },
  {
   "cell_type": "code",
   "execution_count": null,
   "id": "039a8b84",
   "metadata": {},
   "outputs": [],
   "source": [
    "# Initializing plot\n",
    "numDataPoints = len(t)\n",
    "fig = plt.figure()\n",
    "trajectory = fig.add_subplot(122)\n",
    "velocity = fig.add_subplot(421)\n",
    "acceleration = fig.add_subplot(423)\n",
    "normal_acc = fig.add_subplot(425)\n",
    "tan_acc = fig.add_subplot(427)"
   ]
  },
  {
   "cell_type": "code",
   "execution_count": null,
   "id": "2355b3f4",
   "metadata": {},
   "outputs": [],
   "source": [
    "def animate_func(num):\n",
    "    trajectory.clear()\n",
    "    velocity.clear()\n",
    "    acceleration.clear()\n",
    "    tan_acc.clear()\n",
    "    normal_acc.clear()\n",
    "\n",
    "    # Plotting everything for ax graph\n",
    "    trajectory.plot(dataSet[0, :num + 1], dataSet[1, :num + 1],\n",
    "                    c='blue')  # graph\n",
    "    trajectory.scatter(dataSet[0, num], dataSet[1, num],\n",
    "                       c='blue', marker='o')  # current point\n",
    "    trajectory.arrow(dataSet[0, num], dataSet[1, num], s1 * v_x[num], s1 * v_y[num], facecolor='red',\n",
    "                     length_includes_head=True, head_width=2, width=0.4)  # velocity vector\n",
    "    trajectory.arrow(dataSet[0, num], dataSet[1, num], s2 * a_x[num], s2 * a_y[num], facecolor='purple',\n",
    "                     length_includes_head=True, head_width=1, width=0.4)  # acceleration vector\n",
    "    trajectory.arrow(dataSet[0, num], dataSet[1, num], s2 * norm_a_x[num], s2 * norm_a_y[num], facecolor='green',\n",
    "                     length_includes_head=True, head_width=1, width=0.4)  # normal acceleration vector\n",
    "    trajectory.arrow(dataSet[0, num], dataSet[1, num], s1 * tan_a_x[num], s1 * tan_a_y[num], facecolor='black',\n",
    "                     length_includes_head=True, head_width=1, width=0.4)  # tangential acceleration vector\n",
    "    trajectory.plot(dataSet[0, 0], dataSet[1, 0],\n",
    "                    c='black', marker='o')  # initial point\n",
    "    trajectory.set_xlim([-20, 20])  # axes limits\n",
    "    trajectory.set_ylim([0, 130])\n",
    "\n",
    "    # Specification of graph notation\n",
    "    trajectory.add_patch(pltp.Rectangle((17, 125), 1, 3, color='blue'))\n",
    "    trajectory.text(4.5, 125, 'trajectory')\n",
    "    trajectory.add_patch(pltp.Rectangle((17, 120), 1, 3, color='red'))\n",
    "    trajectory.text(7, 120, 'velocity')\n",
    "    trajectory.add_patch(pltp.Rectangle((17, 115), 1, 3, color='purple'))\n",
    "    trajectory.text(1, 115, 'acceleration')\n",
    "    trajectory.add_patch(pltp.Rectangle((17, 110), 1, 3, color='green'))\n",
    "    trajectory.text(-8, 110, 'normal acceleration')\n",
    "    trajectory.add_patch(pltp.Rectangle((17, 105), 1, 3, color='black'))\n",
    "    trajectory.text(-12, 105, 'tangential acceleration')\n",
    "\n",
    "    # Plotting everything for velocity graph\n",
    "    velocity.plot(t[:num + 1], dataSet[2, :num + 1], c='grey')  # graph\n",
    "    velocity.scatter(t[num], dataSet[2, num],\n",
    "                     c='grey', marker='o')  # current point\n",
    "    velocity.plot(t[0], dataSet[2, 0],\n",
    "                  c='black', marker='o')  # initial point\n",
    "    velocity.set_xlim([-6, 6])  # axes limits\n",
    "    velocity.set_ylim([0, 50])\n",
    "    velocity.text(-5.8, 1.5, 'v = ' + str(np.round(dataSet[2, num], decimals=2)) + '\\nVelocity')  # graph title\n",
    "    velocity.set_xlabel('t')\n",
    "    velocity.set_ylabel('v(t)')\n",
    "\n",
    "    # Plotting everything for acceleration graph\n",
    "    acceleration.plot(t[:num + 1], dataSet[3, :num + 1], c='grey')  # graph\n",
    "    acceleration.scatter(t[num], dataSet[3, num],\n",
    "                         c='grey', marker='o')  # current point\n",
    "    acceleration.plot(t[0], dataSet[3, 0],\n",
    "                      c='black', marker='o')  # initial point\n",
    "    acceleration.set_xlim([-6, 6])  # axes limits\n",
    "    acceleration.set_ylim([0, 10])\n",
    "    acceleration.text(-5.8, 1.5, 'a = ' + str(np.round(dataSet[3, num], decimals=2)) + '\\nAcceleration')  # graph title\n",
    "    acceleration.set_xlabel('t')\n",
    "    acceleration.set_ylabel('a(t)')\n",
    "\n",
    "    # Plotting everything for normal acceleration graph\n",
    "    normal_acc.plot(t[:num + 1], dataSet[4, :num + 1], c='grey')  # graph\n",
    "    normal_acc.scatter(t[num], dataSet[4, num],\n",
    "                       c='grey', marker='o')  # current point\n",
    "    normal_acc.plot(t[0], dataSet[4, 0],\n",
    "                    c='black', marker='o')  # initial point\n",
    "    normal_acc.set_xlim([-6, 6])  # axes limits\n",
    "    normal_acc.set_ylim([0, 10])\n",
    "    normal_acc.text(-5.8, 6.5, 'norm_a = ' + str(np.round(dataSet[4, num], decimals=2)) + '\\nNormal acceleration')\n",
    "    # graph title\n",
    "    normal_acc.set_xlabel('t')\n",
    "    normal_acc.set_ylabel('norm_a(t)')\n",
    "\n",
    "    # Plotting everything for tangential acceleration graph\n",
    "    tan_acc.plot(t[:num + 1], dataSet[5, :num + 1], c='grey')  # graph\n",
    "    tan_acc.scatter(t[num], dataSet[5, num],\n",
    "                    c='grey', marker='o')  # current point\n",
    "    tan_acc.plot(t[0], dataSet[5, 0],\n",
    "                 c='black', marker='o')  # initial point\n",
    "    tan_acc.set_xlim([-6, 6])  # axes limits\n",
    "    tan_acc.set_ylim([0, 10])\n",
    "    tan_acc.text(-5.8, 1.5, 'tan_a = ' + str(np.round(dataSet[5, num], decimals=2)) + '\\nTangential acceleration')\n",
    "    # graph title\n",
    "    tan_acc.set_xlabel('t')\n",
    "    tan_acc.set_ylabel('tan_a(t)')\n",
    "\n",
    "    # Graph title + timer + change in coordinates + curvature\n",
    "    trajectory.set_title('ax \\nTime = ' + str(np.round(t[num], decimals=2)) + ' sec'\n",
    "                         + '\\n (x, y) = (' + str(np.round(dataSet[0, num], decimals=2)) + ', ' +\n",
    "                         str(np.round(dataSet[1, num], decimals=2)) + ')' +\n",
    "                         '\\n Curvature(κ) = ' + str(np.round(k[num], decimals=5)))\n",
    "    trajectory.set_xlabel('x')\n",
    "    trajectory.set_ylabel('y')"
   ]
  },
  {
   "cell_type": "code",
   "execution_count": null,
   "id": "fccb1737",
   "metadata": {},
   "outputs": [],
   "source": [
    "# Saving animation\n",
    "line_ani = animation.FuncAnimation(fig, animate_func, interval=100,\n",
    "                                   frames=numDataPoints)\n",
    "\n",
    "writergif = animation.PillowWriter(fps=60)\n",
    "line_ani.save(\"task1.gif\", dpi=300, writer=writergif)\n",
    "# Closing all unclosed plots\n",
    "plt.close('all')"
   ]
  },
  {
   "cell_type": "markdown",
   "id": "e58f9236",
   "metadata": {},
   "source": [
    "# Task 2"
   ]
  },
  {
   "cell_type": "code",
   "execution_count": null,
   "id": "c0968f20",
   "metadata": {},
   "outputs": [],
   "source": [
    "# Given constants\n",
    "OA = OP = 25\n",
    "AC = 20\n",
    "AB = 80\n",
    "w = 1"
   ]
  },
  {
   "cell_type": "code",
   "execution_count": null,
   "outputs": [],
   "source": [
    "# Parameters for simulation\n",
    "t = np.linspace(0, 2 * np.pi, 100)\n",
    "a = Symbol('a')"
   ],
   "metadata": {
    "collapsed": false
   }
  },
  {
   "cell_type": "code",
   "execution_count": null,
   "outputs": [],
   "source": [
    "# Points of the initial position\n",
    "O = array([0, 0])\n",
    "P = array([0, OP])\n",
    "B_i = array([-AB * np.sin(pi / 3), OP - AB * np.cos(pi / 3)])"
   ],
   "metadata": {
    "collapsed": false
   }
  },
  {
   "cell_type": "code",
   "execution_count": null,
   "outputs": [],
   "source": [
    "# Obtained trajectories, velocities and accelerations\n",
    "A = OA * Point([-sp.sin(a), sp.cos(a)])\n",
    "B = Ellipse(A, AB, AB).intersection(Line(Point(P), Point(B_i)))[0]\n",
    "C = A + AC / AB * (B - A)\n",
    "points_sympy = [[A[0], A[1]], [B[0], B[1]], [C[0], C[1]]]\n",
    "velocities_sympy = [[sp.diff(i[0]), sp.diff(i[1])] for i in points_sympy]\n",
    "accelerations_sympy = [[sp.diff(i[0]), sp.diff(i[1])] for i in velocities_sympy]"
   ],
   "metadata": {
    "collapsed": false
   }
  },
  {
   "cell_type": "code",
   "execution_count": null,
   "outputs": [],
   "source": [
    "# Plot settings\n",
    "fig, ax = plt.subplots()\n",
    "ax.set_aspect(\"equal\")"
   ],
   "metadata": {
    "collapsed": false
   }
  },
  {
   "cell_type": "code",
   "execution_count": null,
   "outputs": [],
   "source": [
    "# Animation\n",
    "def animate_func(frame):\n",
    "    # Substitute frame into values introduced by sympy\n",
    "    points = [[float(i[0].subs(a, frame).evalf()), float(i[1].subs(a, frame).evalf())]\n",
    "              for i in points_sympy]\n",
    "    velocities = [[float(i[0].subs(a, frame).evalf()), float(i[1].subs(a, frame).evalf())]\n",
    "                  for i in velocities_sympy]\n",
    "    accelerations = [[float(i[0].subs(a, frame).evalf()), float(i[1].subs(a, frame).evalf())]\n",
    "                     for i in accelerations_sympy]\n",
    "    tan_a = [np.array(velocities[i]) * (np.dot(accelerations[i], velocities[i]) / np.linalg.norm(velocities[i]) ** 2)\n",
    "             for i in range(3)]\n",
    "    norm_a = [np.asarray(accelerations[i]) - np.asarray(tan_a[i]) for i in range(3)]\n",
    "\n",
    "    ax.clear()\n",
    "    ax.set_xlim(-130, 130)\n",
    "    ax.set_ylim(-130, 130)\n",
    "    plt.title('Simulation of Task 2')\n",
    "    ax.add_patch(pltp.Rectangle((points[1][0] - 10, points[1][1] - 5), 20, 10, angle=30, rotation_point='center',\n",
    "                                color='grey'))\n",
    "\n",
    "    # All meaningful points\n",
    "    for i in [points[0], points[1], points[2], O, P, B_i]:\n",
    "        plt.plot(i[0], i[1], markersize=3, markeredgecolor=\"black\", markerfacecolor=\"black\")\n",
    "\n",
    "    # All lines\n",
    "    plt.plot([P[0], points[1][0]], [P[1], points[1][1]], linestyle=\"dashed\", linewidth=0.7, color=\"blue\"),\n",
    "    plt.plot([P[0], O[0]], [P[1], O[1]], linestyle=\"dashed\", linewidth=0.7, color=\"blue\"),\n",
    "    plt.plot([points[0][0], points[1][0]], [points[0][1], points[1][1]], linewidth=0.7, color=\"blue\"),\n",
    "    plt.plot([O[0], points[0][0]], [O[1], points[0][1]], linewidth=0.7, color=\"blue\")\n",
    "\n",
    "    # Points names\n",
    "    ax.text(points[0][0], points[0][1] + 3, 'A', fontsize=10)\n",
    "    ax.text(points[1][0], points[1][1] + 3, 'B', fontsize=10)\n",
    "    ax.text(points[2][0], points[2][1] + 3, 'C', fontsize=10)\n",
    "    ax.text(O[0], O[1] + 3, 'O', fontsize=10)\n",
    "    ax.text(P[0], P[1] + 3, 'P', fontsize=10)\n",
    "    ax.text(B_i[0], B_i[1] + 3, '$B_i$', fontsize=10)\n",
    "\n",
    "    # Velocity vectors\n",
    "    plt.quiver([points[0][0]], [points[0][1]], [velocities[0][0]], [velocities[0][1]],\n",
    "               color=\"red\", scale=1, scale_units='xy')\n",
    "    plt.quiver([points[1][0]], [points[1][1]], [velocities[1][0]], [velocities[1][1]],\n",
    "               color=\"red\", scale=1, scale_units='xy')\n",
    "    plt.quiver([points[2][0]], [points[2][1]], [velocities[2][0]], [velocities[2][1]],\n",
    "               color=\"red\", scale=1, scale_units='xy')\n",
    "\n",
    "    # Total acceleration vectors\n",
    "    plt.quiver([points[0][0]], [points[0][1]], [accelerations[0][0]], [accelerations[0][1]],\n",
    "               color=\"purple\", scale=1, scale_units='xy')\n",
    "    plt.quiver([points[1][0]], [points[1][1]], [accelerations[1][0]], [accelerations[1][1]],\n",
    "               color=\"purple\", scale=1, scale_units='xy')\n",
    "    plt.quiver([points[2][0]], [points[2][1]], [accelerations[2][0]], [accelerations[2][1]],\n",
    "               color=\"purple\", scale=1, scale_units='xy')\n",
    "\n",
    "    # Normal acceleration vectors\n",
    "    plt.quiver([points[0][0]], [points[0][1]], [norm_a[0][0]], [norm_a[0][1]],\n",
    "               color=\"green\", scale=1, scale_units='xy')\n",
    "    plt.quiver([points[2][0]], [points[2][1]], [norm_a[2][0]], [norm_a[2][1]],\n",
    "               color=\"green\", scale=1, scale_units='xy')\n",
    "\n",
    "    # Tangential acceleration vectors\n",
    "    plt.quiver([points[0][0]], [points[0][1]], [tan_a[0][0]], [tan_a[0][1]],\n",
    "               color=\"black\", scale=1, scale_units='xy')\n",
    "    plt.quiver([points[1][0]], [points[1][1]], [tan_a[1][0]], [tan_a[1][1]],\n",
    "               color=\"black\", scale=1, scale_units='xy')\n",
    "    plt.quiver([points[2][0]], [points[2][1]], [tan_a[2][0]], [tan_a[2][1]],\n",
    "               color=\"black\", scale=1, scale_units='xy')\n",
    "\n",
    "    # Specification of graph notation\n",
    "    ax.add_patch(pltp.Rectangle((50, 122), 6, 3, color='blue'))\n",
    "    ax.text(60, 122, 'trajectory')\n",
    "    ax.add_patch(pltp.Rectangle((50, 115), 6, 3, color='red'))\n",
    "    ax.text(60, 115, 'velocity')\n",
    "    ax.add_patch(pltp.Rectangle((50, 108), 6, 3, color='purple'))\n",
    "    ax.text(60, 108, 'acceleration')\n",
    "    ax.add_patch(pltp.Rectangle((50, 101), 6, 3, color='green'))\n",
    "    ax.text(60, 101, 'normal acceleration')\n",
    "    ax.add_patch(pltp.Rectangle((50, 94), 6, 3, color='black'))\n",
    "    ax.text(60, 94, 'tangential acceleration')"
   ],
   "metadata": {
    "collapsed": false
   }
  },
  {
   "cell_type": "code",
   "execution_count": null,
   "outputs": [],
   "source": [
    "anim = FuncAnimation(fig, animate_func, frames=t)\n",
    "# Saving animation\n",
    "anim.save('task2.gif', dpi=300, writer=PillowWriter(fps=60))\n",
    "# Closing all unclosed plots\n",
    "plt.close('all')"
   ],
   "metadata": {
    "collapsed": false
   }
  }
 ],
 "metadata": {
  "kernelspec": {
   "display_name": "Python 3 (ipykernel)",
   "language": "python",
   "name": "python3"
  },
  "language_info": {
   "codemirror_mode": {
    "name": "ipython",
    "version": 3
   },
   "file_extension": ".py",
   "mimetype": "text/x-python",
   "name": "python",
   "nbconvert_exporter": "python",
   "pygments_lexer": "ipython3",
   "version": "3.9.13"
  }
 },
 "nbformat": 4,
 "nbformat_minor": 5
}
