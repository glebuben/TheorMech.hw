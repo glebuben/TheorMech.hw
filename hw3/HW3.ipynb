{
 "cells": [
  {
   "cell_type": "code",
   "execution_count": 27,
   "metadata": {
    "collapsed": true
   },
   "outputs": [],
   "source": [
    "# For Google collab add these lines\n",
    "\n",
    "#from google.colab import output\n",
    "#output.enable_custom_widget_manager()"
   ]
  },
  {
   "cell_type": "code",
   "execution_count": 28,
   "outputs": [
    {
     "name": "stdout",
     "output_type": "stream",
     "text": [
      "Requirement already satisfied: ipympl in c:\\pycharmprojects\\hw 3\\venv\\lib\\site-packages (0.9.3)Note: you may need to restart the kernel to use updated packages.\n",
      "\n",
      "Requirement already satisfied: traitlets<6 in c:\\pycharmprojects\\hw 3\\venv\\lib\\site-packages (from ipympl) (5.9.0)\n",
      "Requirement already satisfied: ipython-genutils in c:\\pycharmprojects\\hw 3\\venv\\lib\\site-packages (from ipympl) (0.2.0)\n",
      "Requirement already satisfied: ipython<9 in c:\\pycharmprojects\\hw 3\\venv\\lib\\site-packages (from ipympl) (8.10.0)\n",
      "Requirement already satisfied: pillow in c:\\pycharmprojects\\hw 3\\venv\\lib\\site-packages (from ipympl) (9.4.0)\n",
      "Requirement already satisfied: matplotlib<4,>=3.4.0 in c:\\pycharmprojects\\hw 3\\venv\\lib\\site-packages (from ipympl) (3.7.0)\n",
      "Requirement already satisfied: ipywidgets<9,>=7.6.0 in c:\\pycharmprojects\\hw 3\\venv\\lib\\site-packages (from ipympl) (8.0.4)\n",
      "Requirement already satisfied: numpy in c:\\pycharmprojects\\hw 3\\venv\\lib\\site-packages (from ipympl) (1.24.2)\n",
      "Requirement already satisfied: jedi>=0.16 in c:\\pycharmprojects\\hw 3\\venv\\lib\\site-packages (from ipython<9->ipympl) (0.18.2)\n",
      "Requirement already satisfied: pickleshare in c:\\pycharmprojects\\hw 3\\venv\\lib\\site-packages (from ipython<9->ipympl) (0.7.5)\n",
      "Requirement already satisfied: matplotlib-inline in c:\\pycharmprojects\\hw 3\\venv\\lib\\site-packages (from ipython<9->ipympl) (0.1.6)\n",
      "Requirement already satisfied: colorama in c:\\pycharmprojects\\hw 3\\venv\\lib\\site-packages (from ipython<9->ipympl) (0.4.6)\n",
      "Requirement already satisfied: prompt-toolkit<3.1.0,>=3.0.30 in c:\\pycharmprojects\\hw 3\\venv\\lib\\site-packages (from ipython<9->ipympl) (3.0.37)\n",
      "Requirement already satisfied: stack-data in c:\\pycharmprojects\\hw 3\\venv\\lib\\site-packages (from ipython<9->ipympl) (0.6.2)\n",
      "Requirement already satisfied: pygments>=2.4.0 in c:\\pycharmprojects\\hw 3\\venv\\lib\\site-packages (from ipython<9->ipympl) (2.14.0)\n",
      "Requirement already satisfied: decorator in c:\\pycharmprojects\\hw 3\\venv\\lib\\site-packages (from ipython<9->ipympl) (5.1.1)\n",
      "Requirement already satisfied: backcall in c:\\pycharmprojects\\hw 3\\venv\\lib\\site-packages (from ipython<9->ipympl) (0.2.0)\n",
      "Requirement already satisfied: widgetsnbextension~=4.0 in c:\\pycharmprojects\\hw 3\\venv\\lib\\site-packages (from ipywidgets<9,>=7.6.0->ipympl) (4.0.5)\n",
      "Requirement already satisfied: ipykernel>=4.5.1 in c:\\pycharmprojects\\hw 3\\venv\\lib\\site-packages (from ipywidgets<9,>=7.6.0->ipympl) (6.21.2)\n",
      "Requirement already satisfied: jupyterlab-widgets~=3.0 in c:\\pycharmprojects\\hw 3\\venv\\lib\\site-packages (from ipywidgets<9,>=7.6.0->ipympl) (3.0.5)\n",
      "Requirement already satisfied: fonttools>=4.22.0 in c:\\pycharmprojects\\hw 3\\venv\\lib\\site-packages (from matplotlib<4,>=3.4.0->ipympl) (4.38.0)\n",
      "Requirement already satisfied: importlib-resources>=3.2.0 in c:\\pycharmprojects\\hw 3\\venv\\lib\\site-packages (from matplotlib<4,>=3.4.0->ipympl) (5.12.0)\n",
      "Requirement already satisfied: packaging>=20.0 in c:\\pycharmprojects\\hw 3\\venv\\lib\\site-packages (from matplotlib<4,>=3.4.0->ipympl) (23.0)\n",
      "Requirement already satisfied: contourpy>=1.0.1 in c:\\pycharmprojects\\hw 3\\venv\\lib\\site-packages (from matplotlib<4,>=3.4.0->ipympl) (1.0.7)\n",
      "Requirement already satisfied: python-dateutil>=2.7 in c:\\pycharmprojects\\hw 3\\venv\\lib\\site-packages (from matplotlib<4,>=3.4.0->ipympl) (2.8.2)\n",
      "Requirement already satisfied: cycler>=0.10 in c:\\pycharmprojects\\hw 3\\venv\\lib\\site-packages (from matplotlib<4,>=3.4.0->ipympl) (0.11.0)\n",
      "Requirement already satisfied: pyparsing>=2.3.1 in c:\\pycharmprojects\\hw 3\\venv\\lib\\site-packages (from matplotlib<4,>=3.4.0->ipympl) (3.0.9)\n",
      "Requirement already satisfied: kiwisolver>=1.0.1 in c:\\pycharmprojects\\hw 3\\venv\\lib\\site-packages (from matplotlib<4,>=3.4.0->ipympl) (1.4.4)\n",
      "Requirement already satisfied: zipp>=3.1.0 in c:\\pycharmprojects\\hw 3\\venv\\lib\\site-packages (from importlib-resources>=3.2.0->matplotlib<4,>=3.4.0->ipympl) (3.14.0)\n",
      "Requirement already satisfied: nest-asyncio in c:\\pycharmprojects\\hw 3\\venv\\lib\\site-packages (from ipykernel>=4.5.1->ipywidgets<9,>=7.6.0->ipympl) (1.5.6)\n",
      "Requirement already satisfied: tornado>=6.1 in c:\\pycharmprojects\\hw 3\\venv\\lib\\site-packages (from ipykernel>=4.5.1->ipywidgets<9,>=7.6.0->ipympl) (6.2)\n",
      "Requirement already satisfied: pyzmq>=20 in c:\\pycharmprojects\\hw 3\\venv\\lib\\site-packages (from ipykernel>=4.5.1->ipywidgets<9,>=7.6.0->ipympl) (25.0.0)\n",
      "Requirement already satisfied: psutil in c:\\pycharmprojects\\hw 3\\venv\\lib\\site-packages (from ipykernel>=4.5.1->ipywidgets<9,>=7.6.0->ipympl) (5.9.4)\n",
      "Requirement already satisfied: jupyter-core!=5.0.*,>=4.12 in c:\\pycharmprojects\\hw 3\\venv\\lib\\site-packages (from ipykernel>=4.5.1->ipywidgets<9,>=7.6.0->ipympl) (5.2.0)\n",
      "Requirement already satisfied: jupyter-client>=6.1.12 in c:\\pycharmprojects\\hw 3\\venv\\lib\\site-packages (from ipykernel>=4.5.1->ipywidgets<9,>=7.6.0->ipympl) (8.0.3)\n",
      "Requirement already satisfied: debugpy>=1.6.5 in c:\\pycharmprojects\\hw 3\\venv\\lib\\site-packages (from ipykernel>=4.5.1->ipywidgets<9,>=7.6.0->ipympl) (1.6.6)\n",
      "Requirement already satisfied: comm>=0.1.1 in c:\\pycharmprojects\\hw 3\\venv\\lib\\site-packages (from ipykernel>=4.5.1->ipywidgets<9,>=7.6.0->ipympl) (0.1.2)\n",
      "Requirement already satisfied: parso<0.9.0,>=0.8.0 in c:\\pycharmprojects\\hw 3\\venv\\lib\\site-packages (from jedi>=0.16->ipython<9->ipympl) (0.8.3)\n",
      "Requirement already satisfied: wcwidth in c:\\pycharmprojects\\hw 3\\venv\\lib\\site-packages (from prompt-toolkit<3.1.0,>=3.0.30->ipython<9->ipympl) (0.2.6)\n",
      "Requirement already satisfied: six>=1.5 in c:\\pycharmprojects\\hw 3\\venv\\lib\\site-packages (from python-dateutil>=2.7->matplotlib<4,>=3.4.0->ipympl) (1.16.0)\n",
      "Requirement already satisfied: pure-eval in c:\\pycharmprojects\\hw 3\\venv\\lib\\site-packages (from stack-data->ipython<9->ipympl) (0.2.2)\n",
      "Requirement already satisfied: asttokens>=2.1.0 in c:\\pycharmprojects\\hw 3\\venv\\lib\\site-packages (from stack-data->ipython<9->ipympl) (2.2.1)\n",
      "Requirement already satisfied: executing>=1.2.0 in c:\\pycharmprojects\\hw 3\\venv\\lib\\site-packages (from stack-data->ipython<9->ipympl) (1.2.0)\n",
      "Requirement already satisfied: importlib-metadata>=4.8.3 in c:\\pycharmprojects\\hw 3\\venv\\lib\\site-packages (from jupyter-client>=6.1.12->ipykernel>=4.5.1->ipywidgets<9,>=7.6.0->ipympl) (6.0.0)\n",
      "Requirement already satisfied: platformdirs>=2.5 in c:\\pycharmprojects\\hw 3\\venv\\lib\\site-packages (from jupyter-core!=5.0.*,>=4.12->ipykernel>=4.5.1->ipywidgets<9,>=7.6.0->ipympl) (3.0.0)\n",
      "Requirement already satisfied: pywin32>=1.0 in c:\\pycharmprojects\\hw 3\\venv\\lib\\site-packages (from jupyter-core!=5.0.*,>=4.12->ipykernel>=4.5.1->ipywidgets<9,>=7.6.0->ipympl) (305)\n"
     ]
    },
    {
     "name": "stderr",
     "output_type": "stream",
     "text": [
      "\n",
      "[notice] A new release of pip available: 22.3.1 -> 23.0.1\n",
      "[notice] To update, run: python.exe -m pip install --upgrade pip\n"
     ]
    }
   ],
   "source": [
    "# remove \"capture\" line, if you have any troubles with packages, and try to run again\n",
    "# %%capture\n",
    "%pip install ipympl"
   ],
   "metadata": {
    "collapsed": false
   }
  },
  {
   "cell_type": "code",
   "execution_count": 29,
   "outputs": [],
   "source": [
    "%matplotlib widget"
   ],
   "metadata": {
    "collapsed": false
   }
  },
  {
   "cell_type": "code",
   "execution_count": 30,
   "outputs": [],
   "source": [
    "import matplotlib\n",
    "import matplotlib.pyplot as plt\n",
    "import numpy as np\n",
    "from matplotlib import animation\n",
    "from matplotlib.animation import FuncAnimation\n",
    "from matplotlib.patches import Wedge, Circle\n",
    "from numpy import pi"
   ],
   "metadata": {
    "collapsed": false
   }
  },
  {
   "cell_type": "markdown",
   "source": [
    "# Task 1"
   ],
   "metadata": {
    "collapsed": false
   }
  },
  {
   "cell_type": "code",
   "execution_count": 31,
   "outputs": [],
   "source": [
    "# Given constants\n",
    "R = 18\n",
    "O_1O = O_2A = 20\n",
    "OA = 2 * R\n",
    "t = np.linspace(0, np.sqrt(R / 6), 200)\n",
    "OM = 6 * pi * t ** 2\n",
    "phi = (pi * t ** 3) / 6"
   ],
   "metadata": {
    "collapsed": false
   }
  },
  {
   "cell_type": "code",
   "execution_count": 32,
   "outputs": [],
   "source": [
    "# Constant points\n",
    "O_1 = np.array([0, 0])\n",
    "O_2 = np.array([OA, 0])\n",
    "const_points = [(O_1, '$O_1$'), (O_2, '$O_2$')]"
   ],
   "metadata": {
    "collapsed": false
   }
  },
  {
   "cell_type": "code",
   "execution_count": 33,
   "outputs": [],
   "source": [
    "# Points of interest\n",
    "O = [np.cos(phi) * O_1O, np.sin(phi) * O_1O]\n",
    "Circ_Center = [O[0] + R, O[1]]\n",
    "A = [np.cos(phi) * O_1O + OA, np.sin(phi) * O_1O]\n",
    "M = [Circ_Center[0] - R * np.cos(OM / R), Circ_Center[1] + R * np.sin(OM / R)]\n",
    "points = [(O, '$O$'), (A, '$A$'), (M, '$M$'), (Circ_Center, '$C$')]"
   ],
   "metadata": {
    "collapsed": false
   }
  },
  {
   "cell_type": "code",
   "execution_count": 34,
   "outputs": [
    {
     "data": {
      "text/plain": "Canvas(toolbar=Toolbar(toolitems=[('Home', 'Reset original view', 'home', 'home'), ('Back', 'Back to previous …",
      "image/png": "[encoded data removed]",
      "text/html": "\n            <div style=\"display: inline-block;\">\n                <div class=\"jupyter-widgets widget-label\" style=\"text-align: center;\">\n                    Figure\n                </div>\n                <img src='data:image/png;base64,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' width=640.0/>\n            </div>\n        ",
      "application/vnd.jupyter.widget-view+json": {
       "version_major": 2,
       "version_minor": 0,
       "model_id": "cc07c08a43d94d5e82fcaf6e35edf7df"
      }
     },
     "metadata": {},
     "output_type": "display_data"
    }
   ],
   "source": [
    "# plot settings\n",
    "fig = plt.figure()\n",
    "ax = [plt.subplot(211), plt.subplot(223), plt.subplot(224)]"
   ],
   "metadata": {
    "collapsed": false
   }
  },
  {
   "cell_type": "code",
   "execution_count": 35,
   "outputs": [],
   "source": [
    "# velocities, accelerations and their colors\n",
    "velocities = [[], [], []]\n",
    "colors_vel = ['red', 'brown', 'pink']\n",
    "accelerations = [[], [], [], [], []]\n",
    "colors_acc = ['black', 'green', 'yellow', 'orange', 'violet']"
   ],
   "metadata": {
    "collapsed": false
   }
  },
  {
   "cell_type": "code",
   "execution_count": 36,
   "outputs": [],
   "source": [
    "# Animation function\n",
    "def animate_func(num):\n",
    "    for a in ax:\n",
    "        a.clear()\n",
    "    ax[1].set_title('velocities')\n",
    "    ax[2].set_title('accelerations')\n",
    "    ax[0].add_artist(Wedge((Circ_Center[0][num], Circ_Center[1][num]), R, 0, 180))\n",
    "    ax[1].set_xlim(0, np.sqrt(R / 6))\n",
    "    ax[1].set_ylim(0, 200)\n",
    "    ax[2].set_xlim(0, np.sqrt(R / 6))\n",
    "    ax[2].set_ylim(0, 500)\n",
    "    ax[0].set_ylim(0, O_1O + R + 2)\n",
    "    ax[0].set_xlim(- 2 - 3 * O_1O, 3 * O_1O + 2)\n",
    "    ax[0].set_aspect('equal')\n",
    "    if 0 < num < len(t):\n",
    "        # Relative motion\n",
    "        v_r = (OM[num] - OM[num - 1]) / (t[num] - t[num - 1])\n",
    "        velocities[0].append(abs(v_r))\n",
    "        a_r_t = (v_r - ((OM[num - 1] - OM[num - 2]) / (t[num - 1] - t[num - 2]))) / (t[num] - t[num - 1])\n",
    "        accelerations[1].append(abs(a_r_t))\n",
    "        a_r_n = v_r ** 2 / R\n",
    "        accelerations[0].append(a_r_n)\n",
    "        a_r_n_dir = np.array([Circ_Center[0][num] - M[0][num], Circ_Center[1][num] - M[1][num]]) \\\n",
    "                    / np.linalg.norm(np.array([Circ_Center[0][num] - M[0][num], Circ_Center[1][num] - M[1][num]]))\n",
    "        a_r_t_dir = np.array([-a_r_n_dir[1], a_r_n_dir[0]]) * np.sign(a_r_t)\n",
    "        v_r_dir = np.array([-a_r_n_dir[1], a_r_n_dir[0]]) * np.sign(v_r)\n",
    "        ax[0].quiver([M[0][num]], [M[1][num]], [v_r_dir[0]], [v_r_dir[1]],  # Point A\n",
    "                     scale=0.05, scale_units='xy', color=\"red\", width=0.005)\n",
    "        ax[0].quiver([M[0][num]], [M[1][num]], [a_r_n_dir[0]], [a_r_n_dir[1]],  # Point A\n",
    "                     scale=0.1, scale_units='xy', color=\"black\", width=0.005)\n",
    "        ax[0].quiver([M[0][num]], [M[1][num]], [a_r_t_dir[0]], [a_r_t_dir[1]],  # Point A\n",
    "                     scale=0.1, scale_units='xy', color=\"green\", width=0.005)\n",
    "\n",
    "        # Transport motion\n",
    "        v_t = (O_1O * phi[num] - O_1O * phi[num - 1]) / (t[num] - t[num - 1])\n",
    "        velocities[1].append(abs(v_t))\n",
    "        a_t_t = O_1O * ((phi[num] - phi[num - 1]) / (t[num] - t[num - 1]) -\n",
    "                        (phi[num - 1] - phi[num - 2]) / (t[num - 1] - t[num - 2])) / (t[num] - t[num - 1])\n",
    "        accelerations[3].append(abs(a_t_t))\n",
    "        a_t_n = O_1O * ((phi[num] - phi[num - 1]) / (t[num] - t[num - 1])) ** 2\n",
    "        accelerations[2].append(a_t_n)\n",
    "        a_t_n_dir = np.array([O_1[0] - O[0][num], O_1[1] - O[1][num]]) \\\n",
    "                    / np.linalg.norm(np.array([O_1[0] - O[0][num], O_1[1] - O[1][num]]))\n",
    "        a_t_t_dir = np.array([a_t_n_dir[1], -a_t_n_dir[0]]) * np.sign(a_t_t)\n",
    "        v_t_dir = np.array([a_t_n_dir[1], -a_t_n_dir[0]]) * np.sign(v_t)\n",
    "        ax[0].quiver([M[0][num]], [M[1][num]], [v_t_dir[0]], [v_t_dir[1]],  # Point A\n",
    "                     scale=0.05, scale_units='xy', color=\"brown\", width=0.005)\n",
    "        ax[0].quiver([M[0][num]], [M[1][num]], [a_t_n_dir[0]], [a_t_n_dir[1]],  # Point A\n",
    "                     scale=0.1, scale_units='xy', color=\"yellow\", width=0.005)\n",
    "        ax[0].quiver([M[0][num]], [M[1][num]], [a_t_t_dir[0]], [a_t_t_dir[1]],  # Point A\n",
    "                     scale=0.1, scale_units='xy', color=\"orange\", width=0.005)\n",
    "\n",
    "        # Total motion\n",
    "        v = np.linalg.norm(np.array(abs(v_t) * v_t_dir + abs(v_r) * v_r_dir))\n",
    "        v_dir = np.array(abs(v_t) * v_t_dir + abs(v_r) * v_r_dir) / v\n",
    "        velocities[2].append(v)\n",
    "        a = np.linalg.norm(np.array(abs(a_t_n) * a_t_n_dir + abs(a_t_t) * a_t_t_dir\n",
    "                                    + abs(a_r_t) * a_r_t_dir + abs(a_r_n) * a_r_n_dir))\n",
    "        a_dir = np.array(abs(a_t_n) * a_t_n_dir + abs(a_t_t) * a_t_t_dir\n",
    "                                    + abs(a_r_t) * a_r_t_dir + abs(a_r_n) * a_r_n_dir) / a\n",
    "        accelerations[4].append(a)\n",
    "        ax[0].quiver([M[0][num]], [M[1][num]], [v_dir[0]], [v_dir[1]],  # Point A\n",
    "                     scale=0.05, scale_units='xy', color=\"pink\", width=0.005)\n",
    "        ax[0].quiver([M[0][num]], [M[1][num]], [a_dir[0]], [a_dir[1]],  # Point A\n",
    "                     scale=0.1, scale_units='xy', color=\"violet\", width=0.005)\n",
    "\n",
    "        for i in range(len(velocities)):\n",
    "            ax[1].plot(t[:num], velocities[i][:num], color=colors_vel[i])\n",
    "\n",
    "        for i in range(len(accelerations)):\n",
    "            ax[2].plot(t[:num], accelerations[i][:num], color=colors_acc[i])\n",
    "\n",
    "    for point in const_points:\n",
    "        ax[0].plot(point[0][0], point[0][1], marker=\"o\", markersize=3, markeredgecolor=\"black\",\n",
    "                   markerfacecolor=\"black\")\n",
    "        ax[0].text(point[0][0] + 0.3, point[0][1] + 0.3, point[1])\n",
    "    for point in points:\n",
    "        ax[0].plot(point[0][0][num], point[0][1][num], marker=\"o\", markersize=3, markeredgecolor=\"black\",\n",
    "                   markerfacecolor=\"black\")\n",
    "        ax[0].text(point[0][0][num] + 0.3, point[0][1][num] + 0.3, point[1])\n",
    "    ax[0].plot([O_1[0], O[0][num]], [O_1[1], O[1][num]], linewidth=0.7, linestyle=\"dashed\", color=\"blue\")\n",
    "    ax[0].plot([O_2[0], A[0][num]], [O_2[1], A[1][num]], linewidth=0.7, linestyle=\"dashed\", color=\"blue\")\n",
    "    ax[0].legend(['mechanism', 'relative velocity', 'relative normal acceleration', 'relative tangential acceleration',\n",
    "                  'transport velocity', 'transport normal acceleration', 'transport tangential acceleration',\n",
    "                  'total velocity', 'total acceleration'], loc='upper left', bbox_to_anchor=(-0.15, 1.55))"
   ],
   "metadata": {
    "collapsed": false
   }
  },
  {
   "cell_type": "code",
   "execution_count": 37,
   "outputs": [],
   "source": [
    "# Creating .gif and saving it\n",
    "line_ani = FuncAnimation(fig, animate_func, frames=len(t))\n",
    "writergif = animation.PillowWriter(fps=60)\n",
    "line_ani.save(\"task1.gif\", dpi=300, writer=writergif)\n",
    "plt.close('all')"
   ],
   "metadata": {
    "collapsed": false
   }
  },
  {
   "cell_type": "markdown",
   "source": [
    "# Task 2"
   ],
   "metadata": {
    "collapsed": false
   }
  },
  {
   "cell_type": "code",
   "execution_count": 38,
   "outputs": [],
   "source": [
    "# Given constants\n",
    "R = 30\n",
    "t = np.linspace(0, 2, 100)\n",
    "OM = 75 * pi * (0.1 * t + 0.3 * t ** 2)\n",
    "phi = 2 * t - 0.3 * t ** 2"
   ],
   "metadata": {
    "collapsed": false
   }
  },
  {
   "cell_type": "code",
   "execution_count": 39,
   "outputs": [],
   "source": [
    "# Constant points\n",
    "O_1 = np.array([0, 0])\n",
    "const_points = [(O_1, '$O_1$')]"
   ],
   "metadata": {
    "collapsed": false
   }
  },
  {
   "cell_type": "code",
   "execution_count": 40,
   "outputs": [],
   "source": [
    "# Points of interest\n",
    "O = [np.cos(phi + pi / 4) * R * np.sqrt(2), np.sin(phi + pi / 4) * R * np.sqrt(2)]\n",
    "D = [np.cos(phi + pi / 2) * R, np.sin(phi + pi / 2) * R]\n",
    "M = [D[0] + R * np.cos(OM / R + phi), D[1] + R * np.sin(OM / R + phi)]\n",
    "points = [(O, '$O$'), (M, '$M$'), (D, '$D$')]"
   ],
   "metadata": {
    "collapsed": false
   }
  },
  {
   "cell_type": "code",
   "execution_count": 41,
   "outputs": [
    {
     "data": {
      "text/plain": "Canvas(toolbar=Toolbar(toolitems=[('Home', 'Reset original view', 'home', 'home'), ('Back', 'Back to previous …",
      "image/png": "[encoded data removed]",
      "text/html": "\n            <div style=\"display: inline-block;\">\n                <div class=\"jupyter-widgets widget-label\" style=\"text-align: center;\">\n                    Figure\n                </div>\n                <img src='data:image/png;base64,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' width=640.0/>\n            </div>\n        ",
      "application/vnd.jupyter.widget-view+json": {
       "version_major": 2,
       "version_minor": 0,
       "model_id": "29afbdac618240f8b0a83e4f20f6ad84"
      }
     },
     "metadata": {},
     "output_type": "display_data"
    }
   ],
   "source": [
    "# plot settings\n",
    "fig = plt.figure()\n",
    "ax = [plt.subplot(211), plt.subplot(223), plt.subplot(224)]"
   ],
   "metadata": {
    "collapsed": false
   }
  },
  {
   "cell_type": "code",
   "execution_count": 42,
   "outputs": [],
   "source": [
    "# velocities, accelerations and their colors\n",
    "velocities = [[], [], []]\n",
    "colors_vel = ['red', 'brown', 'pink']\n",
    "accelerations = [[], [], [], [], [], []]\n",
    "colors_acc = ['black', 'green', 'yellow', 'orange', 'violet', 'navy']"
   ],
   "metadata": {
    "collapsed": false
   }
  },
  {
   "cell_type": "code",
   "execution_count": 43,
   "outputs": [],
   "source": [
    "# Animation function\n",
    "def animate_func(num):\n",
    "    for a in ax:\n",
    "        a.clear()\n",
    "    ax[0].add_artist(Circle((D[0][num], D[1][num]), R, fill=False))\n",
    "    ax[1].set_title('velocities')\n",
    "    ax[2].set_title('accelerations')\n",
    "    ax[1].set_xlim(0, 2)\n",
    "    ax[1].set_ylim(0, 300)\n",
    "    ax[2].set_xlim(0, 2)\n",
    "    ax[2].set_ylim(0, 3000)\n",
    "    ax[0].set_ylim(-2 - 2 * R, 2 + 2 * R)\n",
    "    ax[0].set_xlim(- 2 - 2 * R, 2 * R + 2)\n",
    "    ax[0].set_aspect('equal')\n",
    "    if 0 < num < len(t):\n",
    "        # Relative motion\n",
    "        v_r = (OM[num] - OM[num - 1]) / (t[num] - t[num - 1])\n",
    "        velocities[0].append(abs(v_r))\n",
    "        a_r_t = (v_r - ((OM[num - 1] - OM[num - 2]) / (t[num - 1] - t[num - 2]))) / (t[num] - t[num - 1])\n",
    "        accelerations[1].append(abs(a_r_t))\n",
    "        a_r_n = v_r ** 2 / R\n",
    "        accelerations[0].append(a_r_n)\n",
    "        a_r_n_dir = np.array([D[0][num] - M[0][num], D[1][num] - M[1][num]]) \\\n",
    "                    / np.linalg.norm(np.array([D[0][num] - M[0][num], D[1][num] - M[1][num]]))\n",
    "        a_r_t_dir = np.array([-a_r_n_dir[1], a_r_n_dir[0]]) * np.sign(a_r_t)\n",
    "        v_r_dir = np.array([-a_r_n_dir[1], a_r_n_dir[0]]) * np.sign(v_r)\n",
    "        ax[0].quiver([M[0][num]], [M[1][num]], [v_r_dir[0]], [v_r_dir[1]],  # Point A\n",
    "                     scale=0.02, scale_units='xy', color=\"red\", width=0.009)\n",
    "        ax[0].quiver([M[0][num]], [M[1][num]], [a_r_n_dir[0]], [a_r_n_dir[1]],  # Point A\n",
    "                     scale=0.04, scale_units='xy', color=\"black\", width=0.009)\n",
    "        ax[0].quiver([M[0][num]], [M[1][num]], [a_r_t_dir[0]], [a_r_t_dir[1]],  # Point A\n",
    "                     scale=0.04, scale_units='xy', color=\"green\", width=0.009)\n",
    "\n",
    "        # Transport motion\n",
    "        O_1M = np.sqrt((M[0][num] - O_1[0]) ** 2 + (M[1][num] - O_1[1]) ** 2)\n",
    "        v_t = O_1M * (phi[num] - phi[num - 1]) / (t[num] - t[num - 1])\n",
    "        velocities[1].append(abs(v_t))\n",
    "        a_t_t = O_1M * ((phi[num] - phi[num - 1]) / (t[num] - t[num - 1]) -\n",
    "                        (phi[num - 1] - phi[num - 2]) / (t[num - 1] - t[num - 2])) / (t[num] - t[num - 1])\n",
    "        accelerations[3].append(abs(a_t_t))\n",
    "        a_t_n = O_1M * ((phi[num] - phi[num - 1]) / (t[num] - t[num - 1])) ** 2\n",
    "        accelerations[2].append(a_t_n)\n",
    "        a_t_n_dir = np.array([O_1[0] - O[0][num], O_1[1] - O[1][num]]) \\\n",
    "                    / np.linalg.norm(np.array([O_1[0] - O[0][num], O_1[1] - O[1][num]]))\n",
    "        a_t_t_dir = np.array([a_t_n_dir[1], -a_t_n_dir[0]]) * np.sign(a_t_t)\n",
    "        v_t_dir = np.array([a_t_n_dir[1], -a_t_n_dir[0]]) * np.sign(v_t)\n",
    "        a_c = v_t * (phi[num] - phi[num - 1]) / (t[num] - t[num - 1])\n",
    "        a_c_dir = -a_r_n_dir * np.sign(a_c)\n",
    "        accelerations[5].append(abs(a_c))\n",
    "        ax[0].quiver([M[0][num]], [M[1][num]], [v_t_dir[0]], [v_t_dir[1]],  # Point A\n",
    "                     scale=0.02, scale_units='xy', color=\"brown\", width=0.009)\n",
    "        ax[0].quiver([M[0][num]], [M[1][num]], [a_t_n_dir[0]], [a_t_n_dir[1]],  # Point A\n",
    "                     scale=0.04, scale_units='xy', color=\"yellow\", width=0.009)\n",
    "        ax[0].quiver([M[0][num]], [M[1][num]], [a_t_t_dir[0]], [a_t_t_dir[1]],  # Point A\n",
    "                     scale=0.04, scale_units='xy', color=\"orange\", width=0.009)\n",
    "\n",
    "        # Total motion\n",
    "        v = np.linalg.norm(np.array(v_t * v_t_dir + v_r * v_r_dir))\n",
    "        v_dir = np.array(abs(v_t) * v_t_dir + abs(v_r) * v_r_dir) / v\n",
    "        velocities[2].append(v)\n",
    "        a = np.linalg.norm(np.array(abs(a_t_n) * a_t_n_dir + abs(a_t_t) * a_t_t_dir\n",
    "                                    + abs(a_r_t) * a_r_t_dir + abs(a_r_n) * a_r_n_dir))\n",
    "        a_dir = np.array(abs(a_t_n) * a_t_n_dir + abs(a_t_t) * a_t_t_dir\n",
    "                         + abs(a_r_t) * a_r_t_dir + abs(a_r_n) * a_r_n_dir) / a\n",
    "        accelerations[4].append(a)\n",
    "        ax[0].quiver([M[0][num]], [M[1][num]], [v_dir[0]], [v_dir[1]],  # Point A\n",
    "                     scale=0.02, scale_units='xy', color=\"pink\", width=0.009)\n",
    "        ax[0].quiver([M[0][num]], [M[1][num]], [a_dir[0]], [a_dir[1]],  # Point A\n",
    "                     scale=0.04, scale_units='xy', color=\"violet\", width=0.009)\n",
    "        ax[0].quiver([M[0][num]], [M[1][num]], [a_c_dir[0]], [a_c_dir[1]],  # Point A\n",
    "                     scale=0.04, scale_units='xy', color=\"navy\", width=0.009)\n",
    "\n",
    "        for i in range(len(velocities)):\n",
    "            ax[1].plot(t[:num], velocities[i][:num], color=colors_vel[i])\n",
    "\n",
    "        for i in range(len(accelerations)):\n",
    "            ax[2].plot(t[:num], accelerations[i][:num], color=colors_acc[i])\n",
    "\n",
    "    for point in const_points:\n",
    "        ax[0].plot(point[0][0], point[0][1], marker=\"o\", markersize=3, markeredgecolor=\"black\",\n",
    "                   markerfacecolor=\"black\")\n",
    "        ax[0].text(point[0][0] + 0.3, point[0][1] + 0.3, point[1])\n",
    "    for point in points:\n",
    "        ax[0].plot(point[0][0][num], point[0][1][num], marker=\"o\", markersize=3, markeredgecolor=\"black\",\n",
    "                   markerfacecolor=\"black\")\n",
    "        ax[0].text(point[0][0][num] + 0.3, point[0][1][num] + 0.3, point[1])\n",
    "    ax[0].legend(['mechanism', 'relative velocity', 'relative normal acceleration', 'relative tangential acceleration',\n",
    "                  'transport velocity', 'transport normal acceleration', 'transport tangential acceleration',\n",
    "                  'total velocity', 'total acceleration', 'coriolis acceleration'], loc='upper right',\n",
    "                 bbox_to_anchor=(0.3, 1.5))"
   ],
   "metadata": {
    "collapsed": false
   }
  },
  {
   "cell_type": "code",
   "execution_count": 44,
   "outputs": [],
   "source": [
    "# Creating .gif and saving it\n",
    "line_ani = FuncAnimation(fig, animate_func, frames=len(t))\n",
    "writergif = animation.PillowWriter(fps=60)\n",
    "line_ani.save(\"task2.gif\", dpi=300, writer=writergif)\n",
    "plt.close('all')"
   ],
   "metadata": {
    "collapsed": false
   }
  }
 ],
 "metadata": {
  "kernelspec": {
   "display_name": "Python 3",
   "language": "python",
   "name": "python3"
  },
  "language_info": {
   "codemirror_mode": {
    "name": "ipython",
    "version": 2
   },
   "file_extension": ".py",
   "mimetype": "text/x-python",
   "name": "python",
   "nbconvert_exporter": "python",
   "pygments_lexer": "ipython2",
   "version": "2.7.6"
  }
 },
 "nbformat": 4,
 "nbformat_minor": 0
}
