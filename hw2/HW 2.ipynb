{
 "cells": [
  {
   "cell_type": "code",
   "execution_count": null,
   "metadata": {
    "collapsed": true
   },
   "outputs": [],
   "source": [
    "# For Google collab add these lines\n",
    "\n",
    "#from google.colab import output\n",
    "#output.enable_custom_widget_manager()"
   ]
  },
  {
   "cell_type": "code",
   "execution_count": null,
   "outputs": [],
   "source": [
    "# remove \"capture\" line, if you have any troubles with packages, and try to run again\n",
    "%%capture\n",
    "%pip install ipympl"
   ],
   "metadata": {
    "collapsed": false
   }
  },
  {
   "cell_type": "code",
   "execution_count": null,
   "outputs": [],
   "source": [
    "%matplotlib widget"
   ],
   "metadata": {
    "collapsed": false
   }
  },
  {
   "cell_type": "code",
   "execution_count": 1,
   "outputs": [],
   "source": [
    "import matplotlib.patches as pltp\n",
    "import matplotlib.pyplot as plt\n",
    "import numpy as np\n",
    "import sympy as sp\n",
    "from matplotlib import animation\n",
    "from matplotlib.animation import FuncAnimation, PillowWriter\n",
    "from numpy import pi, array\n",
    "from sympy import Symbol, Ellipse, Point, Line, symbols, Eq, solve"
   ],
   "metadata": {
    "collapsed": false
   }
  },
  {
   "cell_type": "markdown",
   "source": [
    "# Task 1"
   ],
   "metadata": {
    "collapsed": false
   }
  },
  {
   "cell_type": "code",
   "execution_count": 2,
   "outputs": [],
   "source": [
    "# Given constants\n",
    "w = 2\n",
    "phi = 52\n",
    "a = 32\n",
    "b = 4\n",
    "c = 39\n",
    "d = 19\n",
    "e = 32\n",
    "O_1A = 12\n",
    "O_2D = 32\n",
    "O_3E = 18\n",
    "AB = 46\n",
    "AD = 29\n",
    "GH = 14\n",
    "DE = 53\n",
    "GF = 25\n",
    "FH = 14\n",
    "O_4G = 20\n",
    "BC = AB / 3\n",
    "DF = 3 / 5 * DE"
   ],
   "metadata": {
    "collapsed": false
   }
  },
  {
   "cell_type": "code",
   "execution_count": 3,
   "outputs": [],
   "source": [
    "# Parameters for simulation\n",
    "t = np.linspace(0, 2 * np.pi, 100)\n",
    "ang = Symbol('ang')"
   ],
   "metadata": {
    "collapsed": false
   }
  },
  {
   "cell_type": "code",
   "execution_count": 4,
   "outputs": [],
   "source": [
    "# Points which are not moving\n",
    "O_1 = np.array([0, 0])\n",
    "O_2 = np.array([a + b, -d])\n",
    "O_3 = np.array([a + b + c, e])\n",
    "O_4 = np.array([a, e])\n",
    "B_i = np.array([0, AB + O_1A])  # Some position of B for a line O_1B"
   ],
   "metadata": {
    "collapsed": false
   }
  },
  {
   "cell_type": "code",
   "execution_count": 5,
   "outputs": [],
   "source": [
    "# Obtained trajectories, velocities and accelerations\n",
    "A = O_1A * Point([sp.cos(w * ang), sp.sin(w * ang)])\n",
    "B = Ellipse(A, AB, AB).intersection(Line(Point(O_1), Point(B_i)))[1]\n",
    "C = A + (AB - BC) / AB * (B - A)\n",
    "\n",
    "xA, yA, xD, yD, xE, yE, xF, yF, xG, yG, xH, yH = symbols('xA yA xD yD xE yE xF yF xG yG xH yH', real=True)\n",
    "\n",
    "eqD = [Eq((xA - xD) ** 2 + (yA - yD) ** 2, AD ** 2),\n",
    "       Eq((xD - O_2[0]) ** 2 + (yD - O_2[1]) ** 2, O_2D ** 2)]\n",
    "ans = solve(eqD, (xD, yD))\n",
    "D = np.array([ans[0][0].subs(xA, A[0]).subs(yA, A[1]), ans[0][1].subs(xA, A[0]).subs(yA, A[1])])\n",
    "\n",
    "eqE = [Eq((xE - xD) ** 2 + (yE - yD) ** 2, DE ** 2),\n",
    "       Eq((xE - O_3[0]) ** 2 + (yE - O_3[1]) ** 2, O_3E ** 2)]\n",
    "ans = solve(eqE, (xE, yE))\n",
    "E = np.array([ans[0][0].subs(xD, D[0]).subs(yD, D[1]), ans[0][1].subs(xD, D[0]).subs(yD, D[1])])\n",
    "\n",
    "F = D + DF / DE * (E - D)\n",
    "\n",
    "const_points = [O_1, O_2, O_3, O_4]\n",
    "points_sympy = [A, B, C, D, E, F]\n",
    "points_names = [(O_1, '$O_1$'), (O_2, '$O_2$'), (O_3, '$O_3$'), (O_4, '$O_4$')]\n",
    "\n",
    "velocities_sympy = [[sp.diff(point[0]), sp.diff(point[1])] for point in points_sympy]\n",
    "accelerations_sympy = [[sp.diff(velocity[0]), sp.diff(velocity[1])] for velocity in velocities_sympy]"
   ],
   "metadata": {
    "collapsed": false
   }
  },
  {
   "cell_type": "code",
   "execution_count": 6,
   "outputs": [
    {
     "data": {
      "text/plain": "<Figure size 640x480 with 6 Axes>",
      "image/png": "[encoded data removed]"
     },
     "metadata": {},
     "output_type": "display_data"
    }
   ],
   "source": [
    "# Plot settings\n",
    "fig, ax = plt.subplots(nrows=2, ncols=3)\n",
    "\n",
    "# Data for graphs\n",
    "data_velocities = [[], [], [], [], [], []]\n",
    "data_total_acc = [[], [], [], [], [], []]\n",
    "data_normal_acc = [[], [], [], [], [], []]\n",
    "data_tan_acc = [[], [], [], [], [], []]\n",
    "data_ang_vel = [[], [], [], [], [], [], [], []]\n",
    "colors = ['black', 'red', 'green', 'blue', 'yellow', 'gray', 'pink', 'turquoise']\n",
    "counter = 0"
   ],
   "metadata": {
    "collapsed": false
   }
  },
  {
   "cell_type": "code",
   "execution_count": 7,
   "outputs": [],
   "source": [
    "# Animation\n",
    "def animate_func(num):\n",
    "    global counter\n",
    "    counter += 1  # counter of frames\n",
    "    for i in ax:  # cleaning plots\n",
    "        for plot in i:\n",
    "            plot.clear()\n",
    "    plt.rc('xtick', labelsize=6)  # fontsize of the tick labels\n",
    "    plt.rc('ytick', labelsize=6)  # fontsize of the tick labels\n",
    "    #  Setting limits for axis and titles for each plot\n",
    "    ax[0][0].set_xlim(-30, 90)\n",
    "    ax[0][0].set_ylim(-30, 80)\n",
    "    ax[0][0].set_title('Simulation', fontsize=9)\n",
    "    ax[0][1].set_xlim(0, 2 * pi)\n",
    "    ax[0][1].set_ylim(0, 30)\n",
    "    ax[0][1].set_title('Velocity', fontsize=9)\n",
    "    ax[0][2].set_xlim(0, 2 * pi)\n",
    "    ax[0][2].set_ylim(0, 5)\n",
    "    ax[0][2].set_title('Angular velocity', fontsize=9)\n",
    "    ax[1][0].set_xlim(0, 2 * pi)\n",
    "    ax[1][0].set_ylim(0, 90)\n",
    "    ax[1][0].set_title('Total acceleration', fontsize=9)\n",
    "    ax[1][1].set_xlim(0, 2 * pi)\n",
    "    ax[1][1].set_ylim(0, 60)\n",
    "    ax[1][1].set_title('Normal acceleration', fontsize=9)\n",
    "    ax[1][2].set_xlim(0, 2 * pi)\n",
    "    ax[1][2].set_ylim(0, 90)\n",
    "    ax[1][2].set_title('Tangential acceleration', fontsize=9)\n",
    "\n",
    "    # Substitute frame into values introduced by sympy\n",
    "    points_start = [[float(i[0].subs(ang, 0).evalf()), float(i[1].subs(ang, 0).evalf())]\n",
    "                    for i in points_sympy]\n",
    "    points = [[float(i[0].subs(ang, num).evalf()), float(i[1].subs(ang, num).evalf())]\n",
    "              for i in points_sympy]\n",
    "\n",
    "    # Numerically finding points E and H (Also G_initial and H_initial)\n",
    "    eqG = [Eq((xG - xF) ** 2 + (yG - yF) ** 2, GF ** 2),\n",
    "           Eq((xG - O_4[0]) ** 2 + (yG - O_4[1]) ** 2, O_4G ** 2)]\n",
    "    ansG = solve(eqG, (xG, yG))\n",
    "    G = np.array([ansG[1][0].subs(xF, points[5][0]).subs(yF, points[5][1]),\n",
    "                  ansG[1][1].subs(xF, points[5][0]).subs(yF, points[5][1])])\n",
    "    G_i = np.array([ansG[1][0].subs(xF, points_start[5][0]).subs(yF, points_start[5][1]),\n",
    "                    ansG[1][1].subs(xF, points_start[5][0]).subs(yF, points_start[5][1])])\n",
    "\n",
    "    eqH = [Eq((xH - xG) ** 2 + (yH - yG) ** 2, GH ** 2),\n",
    "           Eq((xH - xF) ** 2 + (yH - yF) ** 2, FH ** 2)]\n",
    "    ans = solve(eqH, (xH, yH))\n",
    "    H = np.array([ans[1][0].subs(xF, points[5][0]).subs(yF, points[5][1]).subs(xG, G[0]).subs(yG, G[1]),\n",
    "                  ans[1][1].subs(xF, points[5][0]).subs(yF, points[5][1]).subs(xG, G[0]).subs(yG, G[1])])\n",
    "    H_i = np.array(\n",
    "        [ans[1][0].subs(xF, points_start[5][0]).subs(yF, points_start[5][1]).subs(xG, G_i[0]).subs(yG, G_i[1]),\n",
    "         ans[1][1].subs(xF, points_start[5][0]).subs(yF, points_start[5][1]).subs(xG, G_i[0]).subs(yG, G_i[1])])\n",
    "\n",
    "    # Finding velocities and accelerations for points\n",
    "    velocities = [[float(i[0].subs(ang, num).evalf()), float(i[1].subs(ang, num).evalf())]\n",
    "                  for i in velocities_sympy]\n",
    "\n",
    "    accelerations = [[float(i[0].subs(ang, num).evalf()), float(i[1].subs(ang, num).evalf())]\n",
    "                     for i in accelerations_sympy]\n",
    "\n",
    "    tan_a = [np.array(velocities[i]) * (np.dot(accelerations[i], velocities[i]) / np.linalg.norm(velocities[i]) ** 2)\n",
    "             for i in range(6)]\n",
    "\n",
    "    norm_a = [np.asarray(accelerations[i]) - np.asarray(tan_a[i]) for i in range(6)]\n",
    "\n",
    "    data_ang_vel[0].append(w)\n",
    "    data_ang_vel[1].append(np.linalg.norm(np.asarray(velocities[0])-np.asarray(velocities[1])) / AB)\n",
    "    data_ang_vel[2].append(np.linalg.norm(np.asarray(velocities[0]) - np.asarray(velocities[3])) / AD)\n",
    "    data_ang_vel[3].append(np.linalg.norm(np.asarray(velocities[3])) / O_2D)\n",
    "    data_ang_vel[4].append(np.linalg.norm(np.asarray(velocities[3]) - np.asarray(velocities[4])) / DE)\n",
    "    data_ang_vel[5].append(np.linalg.norm(np.asarray(velocities[4])) / O_3E)\n",
    "    if counter < 99:\n",
    "        xF_1 = [float(points_sympy[5][0].subs(ang, t[counter + 1]).evalf()),\n",
    "                float(points_sympy[5][1].subs(ang, t[counter + 1]).evalf())]\n",
    "        G_1 = np.array([ansG[1][0].subs(xF, xF_1[0]).subs(yF, xF_1[1]),\n",
    "                        ansG[1][1].subs(xF, xF_1[0]).subs(yF, xF_1[1])])\n",
    "        V_g = np.array((G_1 - G) / (t[counter + 1] - t[counter]), dtype=np.float64)\n",
    "        data_ang_vel[6].append(np.linalg.norm(np.asarray(V_g)) / O_4G)\n",
    "        data_ang_vel[7].append(np.linalg.norm(np.asarray(V_g) - np.asarray(velocities[5])) / GF)\n",
    "\n",
    "    # Adding data for graphs of velocities and accelerations\n",
    "    for i in range(6):\n",
    "        if counter <= 100:\n",
    "            data_velocities[i].append((velocities[i][0] ** 2 + velocities[i][1] ** 2) ** 0.5)\n",
    "            data_total_acc[i].append((accelerations[i][0] ** 2 + accelerations[i][1] ** 2) ** 0.5)\n",
    "            data_normal_acc[i].append((norm_a[i][0] ** 2 + norm_a[i][1] ** 2) ** 0.5)\n",
    "            data_tan_acc[i].append((tan_a[i][0] ** 2 + tan_a[i][1] ** 2) ** 0.5)\n",
    "\n",
    "    # Plotting graphs for velocities and accelerations\n",
    "    for i in range(6):\n",
    "        ax[0][1].plot(t[:counter], data_velocities[i], c=colors[i], linewidth=0.7)\n",
    "        ax[1][0].plot(t[:counter], data_total_acc[i], c=colors[i], linewidth=0.7)\n",
    "        ax[1][1].plot(t[:counter], data_normal_acc[i], c=colors[i], linewidth=0.7)\n",
    "        ax[1][2].plot(t[:counter], data_tan_acc[i], c=colors[i], linewidth=0.7)\n",
    "\n",
    "    if counter < 99:\n",
    "        for i in range(8):\n",
    "            ax[0][2].plot(t[:counter], data_ang_vel[i], c=colors[i], linewidth=0.7)\n",
    "\n",
    "    # Adding all meaningful points\n",
    "    for point in points:\n",
    "        ax[0][0].plot(point[0], point[1], marker=\"o\", markersize=3, markeredgecolor=\"black\", markerfacecolor=\"black\")\n",
    "    ax[0][0].plot(G[0], G[1], marker=\"o\", markersize=3, markeredgecolor=\"black\", markerfacecolor=\"black\")\n",
    "    ax[0][0].plot(H[0], H[1], marker=\"o\", markersize=3, markeredgecolor=\"black\", markerfacecolor=\"black\")\n",
    "\n",
    "    # Adding all initial points\n",
    "    for point in points_start:\n",
    "        ax[0][0].plot(point[0], point[1], marker=\"o\", markersize=3, markeredgecolor=\"black\", markerfacecolor=\"black\")\n",
    "    ax[0][0].plot(G_i[0], G_i[1], marker=\"o\", markersize=3, markeredgecolor=\"black\", markerfacecolor=\"black\")\n",
    "    ax[0][0].plot(H_i[0], H_i[1], marker=\"o\", markersize=3, markeredgecolor=\"black\", markerfacecolor=\"black\")\n",
    "\n",
    "    # Adding all points that are not moving\n",
    "    for point in const_points:\n",
    "        ax[0][0].plot(point[0], point[1], marker=\"o\", markersize=3, markeredgecolor=\"black\", markerfacecolor=\"black\")\n",
    "\n",
    "    # List of all lines we need to draw\n",
    "    lines = [(O_1, points[0]), (points[0], points[1]), (points[0], points[3]), (O_2, points[3]), (points[3], points[4]),\n",
    "             (O_3, points[4]), (points[5], H), (O_4, G), (G, H), (G, points[5])]\n",
    "\n",
    "    # List of all lines of the initial state\n",
    "    lines_start = [(O_1, points_start[0]), (points_start[0], points_start[1]), (points_start[0], points_start[3]),\n",
    "                   (O_2, points_start[3]), (points_start[3], points_start[4]), (O_3, points_start[4]),\n",
    "                   (points_start[5], H_i),\n",
    "                   (O_4, G_i), (G_i, H_i), (G_i, points[5])]\n",
    "\n",
    "    # Drawing all lines\n",
    "    for line in lines:\n",
    "        ax[0][0].plot([line[0][0], line[1][0]], [line[0][1], line[1][1]], linewidth=0.7, color=\"blue\")  # Line PB\n",
    "\n",
    "    for line in lines_start:\n",
    "        ax[0][0].plot([line[0][0], line[1][0]], [line[0][1], line[1][1]], linewidth=0.7, color=\"blue\",\n",
    "                      linestyle=\"dashed\")\n",
    "\n",
    "    # Adding points names\n",
    "    for coord, name in zip(points, ['A', 'B', 'C', 'D', 'E', 'F']):\n",
    "        ax[0][0].text(coord[0], coord[1] + 3, name, fontsize=6)\n",
    "    ax[0][0].text(G[0], G[1] + 3, 'G', fontsize=6)\n",
    "    ax[0][0].text(H[0], H[1] + 3, 'H', fontsize=6)\n",
    "    for name in points_names:\n",
    "        ax[0][0].text(name[0][0], name[0][1] + 3, name[1], fontsize=6)\n",
    "\n",
    "    # Drawing velocity vectors\n",
    "    for point, velocity in zip(points, velocities):\n",
    "        ax[0][0].quiver([point[0]], [point[1]], [velocity[0]], [velocity[1]],  # Point A\n",
    "                        scale=2, scale_units='xy', color=\"red\")\n",
    "\n",
    "    # Drawing total acceleration vectors\n",
    "    for coord, acceleration in zip(points, accelerations):\n",
    "        ax[0][0].quiver(coord[0], coord[1], acceleration[0], acceleration[1],  # Point A\n",
    "                        scale=2, scale_units='xy', color=\"purple\")\n",
    "\n",
    "    # Drawing normal acceleration vectors\n",
    "    for coord, norm in zip(points, norm_a):\n",
    "        ax[0][0].quiver(coord[0], coord[1], norm[0], norm[1],  # Point A\n",
    "                        scale=2, scale_units='xy', color=\"green\")\n",
    "\n",
    "    # Drawing tangential acceleration vectors\n",
    "    for coord, tan in zip(points, tan_a):\n",
    "        ax[0][0].quiver(coord[0], coord[1], tan[0], tan[1],  # Point A\n",
    "                        scale=2, scale_units='xy', color=\"black\")\n",
    "\n",
    "    # Specification of graph notation\n",
    "    ax[0][0].add_patch(pltp.Rectangle((-25, 75), 6, 3, color='blue'))\n",
    "    ax[0][0].text(-17, 75, 'trajectory', fontsize=6)\n",
    "    ax[0][0].add_patch(pltp.Rectangle((-25, 71), 6, 3, color='red'))\n",
    "    ax[0][0].text(-17, 71, 'velocity', fontsize=6)\n",
    "    ax[0][0].add_patch(pltp.Rectangle((-25, 67), 6, 3, color='purple'))\n",
    "    ax[0][0].text(-17, 67, 'acceleration', fontsize=6)\n",
    "    ax[0][0].add_patch(pltp.Rectangle((-25, 63), 6, 3, color='green'))\n",
    "    ax[0][0].text(-17, 63, 'normal acceleration', fontsize=6)\n",
    "    ax[0][0].add_patch(pltp.Rectangle((-25, 59), 6, 3, color='black'))\n",
    "    ax[0][0].text(-17, 59, 'tangential acceleration', fontsize=6)\n",
    "\n",
    "    ax[0][2].add_patch(pltp.Rectangle((0.2, 4.80), 0.3, 0.15, color=colors[0]))\n",
    "    ax[0][2].text(0.6, 4.80, 'A / $O_2$A', fontsize=5)\n",
    "    ax[0][2].add_patch(pltp.Rectangle((0.2, 4.60), 0.3, 0.15, color=colors[1]))\n",
    "    ax[0][2].text(0.6, 4.60, 'B / AB', fontsize=5)\n",
    "    ax[0][2].add_patch(pltp.Rectangle((0.2, 4.40), 0.3, 0.15, color=colors[2]))\n",
    "    ax[0][2].text(0.6, 4.40, 'C / AD', fontsize=5)\n",
    "    ax[0][2].add_patch(pltp.Rectangle((0.2, 4.20), 0.3, 0.15, color=colors[3]))\n",
    "    ax[0][2].text(0.6, 4.20, 'D / $O_2$D', fontsize=5)\n",
    "    ax[0][2].add_patch(pltp.Rectangle((0.2, 4.00), 0.3, 0.15, color=colors[4]))\n",
    "    ax[0][2].text(0.6, 4.00, 'E / DE', fontsize=5)\n",
    "    ax[0][2].add_patch(pltp.Rectangle((0.2, 3.80), 0.3, 0.15, color=colors[5]))\n",
    "    ax[0][2].text(0.6, 3.80, 'F / $O_3$E', fontsize=5)\n",
    "    ax[0][2].add_patch(pltp.Rectangle((0.2, 3.60), 0.3, 0.15, color=colors[6]))\n",
    "    ax[0][2].text(0.6, 3.60, '$O_4$G', fontsize=5)\n",
    "    ax[0][2].add_patch(pltp.Rectangle((0.2, 3.40), 0.3, 0.15, color=colors[7]))\n",
    "    ax[0][2].text(0.6, 3.40, 'GF / GH / FH', fontsize=5)"
   ],
   "metadata": {
    "collapsed": false
   }
  },
  {
   "cell_type": "code",
   "execution_count": 8,
   "outputs": [],
   "source": [
    "#  Starting animation and saving plots\n",
    "line_ani = FuncAnimation(fig, animate_func, frames=t)\n",
    "writergif = animation.PillowWriter(fps=60)\n",
    "line_ani.save(\"task1.gif\", dpi=300, writer=writergif)\n",
    "plt.close('all')"
   ],
   "metadata": {
    "collapsed": false
   }
  }
 ],
 "metadata": {
  "kernelspec": {
   "display_name": "Python 3",
   "language": "python",
   "name": "python3"
  },
  "language_info": {
   "codemirror_mode": {
    "name": "ipython",
    "version": 2
   },
   "file_extension": ".py",
   "mimetype": "text/x-python",
   "name": "python",
   "nbconvert_exporter": "python",
   "pygments_lexer": "ipython2",
   "version": "2.7.6"
  }
 },
 "nbformat": 4,
 "nbformat_minor": 0
}
