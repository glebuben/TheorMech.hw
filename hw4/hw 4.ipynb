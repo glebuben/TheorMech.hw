{
 "cells": [
  {
   "cell_type": "code",
   "execution_count": 1,
   "metadata": {
    "collapsed": true
   },
   "outputs": [],
   "source": [
    "# For Google collab add these lines\n",
    "\n",
    "#from google.colab import output\n",
    "#output.enable_custom_widget_manager()"
   ]
  },
  {
   "cell_type": "code",
   "execution_count": 2,
   "outputs": [
    {
     "name": "stdout",
     "output_type": "stream",
     "text": [
      "Collecting ipympl\n",
      "  Using cached ipympl-0.9.3-py2.py3-none-any.whl (511 kB)\n",
      "Collecting matplotlib<4,>=3.4.0\n",
      "  Using cached matplotlib-3.7.0-cp39-cp39-win_amd64.whl (7.6 MB)\n",
      "Requirement already satisfied: ipywidgets<9,>=7.6.0 in c:\\pycharmprojects\\hw 4\\venv\\lib\\site-packages (from ipympl) (8.0.4)\n",
      "Requirement already satisfied: ipython<9 in c:\\pycharmprojects\\hw 4\\venv\\lib\\site-packages (from ipympl) (8.11.0)\n",
      "Requirement already satisfied: traitlets<6 in c:\\pycharmprojects\\hw 4\\venv\\lib\\site-packages (from ipympl) (5.9.0)\n",
      "Requirement already satisfied: ipython-genutils in c:\\pycharmprojects\\hw 4\\venv\\lib\\site-packages (from ipympl) (0.2.0)\n",
      "Collecting pillow\n",
      "  Using cached Pillow-9.4.0-cp39-cp39-win_amd64.whl (2.5 MB)\n",
      "Requirement already satisfied: numpy in c:\\pycharmprojects\\hw 4\\venv\\lib\\site-packages (from ipympl) (1.24.2)\n",
      "Requirement already satisfied: pickleshare in c:\\pycharmprojects\\hw 4\\venv\\lib\\site-packages (from ipython<9->ipympl) (0.7.5)\n",
      "Requirement already satisfied: matplotlib-inline in c:\\pycharmprojects\\hw 4\\venv\\lib\\site-packages (from ipython<9->ipympl) (0.1.6)\n",
      "Requirement already satisfied: stack-data in c:\\pycharmprojects\\hw 4\\venv\\lib\\site-packages (from ipython<9->ipympl) (0.6.2)\n",
      "Requirement already satisfied: colorama in c:\\pycharmprojects\\hw 4\\venv\\lib\\site-packages (from ipython<9->ipympl) (0.4.6)\n",
      "Requirement already satisfied: prompt-toolkit!=3.0.37,<3.1.0,>=3.0.30 in c:\\pycharmprojects\\hw 4\\venv\\lib\\site-packages (from ipython<9->ipympl) (3.0.38)\n",
      "Requirement already satisfied: jedi>=0.16 in c:\\pycharmprojects\\hw 4\\venv\\lib\\site-packages (from ipython<9->ipympl) (0.18.2)\n",
      "Requirement already satisfied: pygments>=2.4.0 in c:\\pycharmprojects\\hw 4\\venv\\lib\\site-packages (from ipython<9->ipympl) (2.14.0)\n",
      "Requirement already satisfied: backcall in c:\\pycharmprojects\\hw 4\\venv\\lib\\site-packages (from ipython<9->ipympl) (0.2.0)\n",
      "Requirement already satisfied: decorator in c:\\pycharmprojects\\hw 4\\venv\\lib\\site-packages (from ipython<9->ipympl) (5.1.1)\n",
      "Requirement already satisfied: jupyterlab-widgets~=3.0 in c:\\pycharmprojects\\hw 4\\venv\\lib\\site-packages (from ipywidgets<9,>=7.6.0->ipympl) (3.0.5)\n",
      "Requirement already satisfied: widgetsnbextension~=4.0 in c:\\pycharmprojects\\hw 4\\venv\\lib\\site-packages (from ipywidgets<9,>=7.6.0->ipympl) (4.0.5)\n",
      "Requirement already satisfied: ipykernel>=4.5.1 in c:\\pycharmprojects\\hw 4\\venv\\lib\\site-packages (from ipywidgets<9,>=7.6.0->ipympl) (6.21.2)\n",
      "Collecting kiwisolver>=1.0.1\n",
      "  Using cached kiwisolver-1.4.4-cp39-cp39-win_amd64.whl (55 kB)\n",
      "Collecting cycler>=0.10\n",
      "  Using cached cycler-0.11.0-py3-none-any.whl (6.4 kB)\n",
      "Collecting importlib-resources>=3.2.0\n",
      "  Using cached importlib_resources-5.12.0-py3-none-any.whl (36 kB)\n",
      "Requirement already satisfied: python-dateutil>=2.7 in c:\\pycharmprojects\\hw 4\\venv\\lib\\site-packages (from matplotlib<4,>=3.4.0->ipympl) (2.8.2)\n",
      "Collecting fonttools>=4.22.0\n",
      "  Using cached fonttools-4.38.0-py3-none-any.whl (965 kB)\n",
      "Requirement already satisfied: packaging>=20.0 in c:\\pycharmprojects\\hw 4\\venv\\lib\\site-packages (from matplotlib<4,>=3.4.0->ipympl) (23.0)\n",
      "Collecting contourpy>=1.0.1\n",
      "  Using cached contourpy-1.0.7-cp39-cp39-win_amd64.whl (160 kB)\n",
      "Collecting pyparsing>=2.3.1\n",
      "  Using cached pyparsing-3.0.9-py3-none-any.whl (98 kB)\n",
      "Requirement already satisfied: zipp>=3.1.0 in c:\\pycharmprojects\\hw 4\\venv\\lib\\site-packages (from importlib-resources>=3.2.0->matplotlib<4,>=3.4.0->ipympl) (3.15.0)\n",
      "Requirement already satisfied: psutil in c:\\pycharmprojects\\hw 4\\venv\\lib\\site-packages (from ipykernel>=4.5.1->ipywidgets<9,>=7.6.0->ipympl) (5.9.4)\n",
      "Requirement already satisfied: pyzmq>=20 in c:\\pycharmprojects\\hw 4\\venv\\lib\\site-packages (from ipykernel>=4.5.1->ipywidgets<9,>=7.6.0->ipympl) (25.0.0)\n",
      "Requirement already satisfied: tornado>=6.1 in c:\\pycharmprojects\\hw 4\\venv\\lib\\site-packages (from ipykernel>=4.5.1->ipywidgets<9,>=7.6.0->ipympl) (6.2)\n",
      "Requirement already satisfied: jupyter-client>=6.1.12 in c:\\pycharmprojects\\hw 4\\venv\\lib\\site-packages (from ipykernel>=4.5.1->ipywidgets<9,>=7.6.0->ipympl) (8.0.3)\n",
      "Requirement already satisfied: comm>=0.1.1 in c:\\pycharmprojects\\hw 4\\venv\\lib\\site-packages (from ipykernel>=4.5.1->ipywidgets<9,>=7.6.0->ipympl) (0.1.2)\n",
      "Requirement already satisfied: jupyter-core!=5.0.*,>=4.12 in c:\\pycharmprojects\\hw 4\\venv\\lib\\site-packages (from ipykernel>=4.5.1->ipywidgets<9,>=7.6.0->ipympl) (5.2.0)\n",
      "Requirement already satisfied: debugpy>=1.6.5 in c:\\pycharmprojects\\hw 4\\venv\\lib\\site-packages (from ipykernel>=4.5.1->ipywidgets<9,>=7.6.0->ipympl) (1.6.6)\n",
      "Requirement already satisfied: nest-asyncio in c:\\pycharmprojects\\hw 4\\venv\\lib\\site-packages (from ipykernel>=4.5.1->ipywidgets<9,>=7.6.0->ipympl) (1.5.6)\n",
      "Requirement already satisfied: parso<0.9.0,>=0.8.0 in c:\\pycharmprojects\\hw 4\\venv\\lib\\site-packages (from jedi>=0.16->ipython<9->ipympl) (0.8.3)\n",
      "Requirement already satisfied: wcwidth in c:\\pycharmprojects\\hw 4\\venv\\lib\\site-packages (from prompt-toolkit!=3.0.37,<3.1.0,>=3.0.30->ipython<9->ipympl) (0.2.6)\n",
      "Requirement already satisfied: six>=1.5 in c:\\pycharmprojects\\hw 4\\venv\\lib\\site-packages (from python-dateutil>=2.7->matplotlib<4,>=3.4.0->ipympl) (1.16.0)\n",
      "Requirement already satisfied: pure-eval in c:\\pycharmprojects\\hw 4\\venv\\lib\\site-packages (from stack-data->ipython<9->ipympl) (0.2.2)\n",
      "Requirement already satisfied: asttokens>=2.1.0 in c:\\pycharmprojects\\hw 4\\venv\\lib\\site-packages (from stack-data->ipython<9->ipympl) (2.2.1)\n",
      "Requirement already satisfied: executing>=1.2.0 in c:\\pycharmprojects\\hw 4\\venv\\lib\\site-packages (from stack-data->ipython<9->ipympl) (1.2.0)\n",
      "Requirement already satisfied: importlib-metadata>=4.8.3 in c:\\pycharmprojects\\hw 4\\venv\\lib\\site-packages (from jupyter-client>=6.1.12->ipykernel>=4.5.1->ipywidgets<9,>=7.6.0->ipympl) (6.0.0)\n",
      "Requirement already satisfied: platformdirs>=2.5 in c:\\pycharmprojects\\hw 4\\venv\\lib\\site-packages (from jupyter-core!=5.0.*,>=4.12->ipykernel>=4.5.1->ipywidgets<9,>=7.6.0->ipympl) (3.0.0)\n",
      "Requirement already satisfied: pywin32>=1.0 in c:\\pycharmprojects\\hw 4\\venv\\lib\\site-packages (from jupyter-core!=5.0.*,>=4.12->ipykernel>=4.5.1->ipywidgets<9,>=7.6.0->ipympl) (305)\n",
      "Installing collected packages: pyparsing, pillow, kiwisolver, importlib-resources, fonttools, cycler, contourpy, matplotlib, ipympl\n",
      "Successfully installed contourpy-1.0.7 cycler-0.11.0 fonttools-4.38.0 importlib-resources-5.12.0 ipympl-0.9.3 kiwisolver-1.4.4 matplotlib-3.7.0 pillow-9.4.0 pyparsing-3.0.9\n",
      "Note: you may need to restart the kernel to use updated packages.\n"
     ]
    },
    {
     "name": "stderr",
     "output_type": "stream",
     "text": [
      "\n",
      "[notice] A new release of pip available: 22.3.1 -> 23.0.1\n",
      "[notice] To update, run: python.exe -m pip install --upgrade pip\n"
     ]
    }
   ],
   "source": [
    "# remove \"capture\" line, if you have any troubles with packages, and try to run again\n",
    "# %%capture\n",
    "%pip install ipympl"
   ],
   "metadata": {
    "collapsed": false
   }
  },
  {
   "cell_type": "code",
   "execution_count": 3,
   "outputs": [],
   "source": [
    "import numpy as np\n",
    "from sympy import symbols, Eq, solve"
   ],
   "metadata": {
    "collapsed": false
   }
  },
  {
   "cell_type": "markdown",
   "source": [
    "# Task 1"
   ],
   "metadata": {
    "collapsed": false
   }
  },
  {
   "cell_type": "code",
   "execution_count": 4,
   "outputs": [],
   "source": [
    "# constants\n",
    "AB = 4\n",
    "BC = 3\n",
    "CD = 2.5\n",
    "DE = 2\n",
    "EK = 2.5\n",
    "KF = 2\n",
    "P_1 = 12\n",
    "P_2 = 18\n",
    "M_1 = 36\n",
    "q = 1.4"
   ],
   "metadata": {
    "collapsed": false
   }
  },
  {
   "cell_type": "code",
   "execution_count": 5,
   "outputs": [],
   "source": [
    "# variables\n",
    "R_a, R_b_x, R_b_y, R_c_x, R_c_y, R_e_x, R_e_y, R_d, R_f = symbols('R_a R_b_x R_b_y R_c_x R_c_y R_e_x R_e_y R_d R_f',\n",
    "                                                                  real=True)"
   ],
   "metadata": {
    "collapsed": false
   }
  },
  {
   "cell_type": "code",
   "execution_count": 6,
   "outputs": [
    {
     "name": "stdout",
     "output_type": "stream",
     "text": [
      "{R_a: 10.6199263505354, R_b_x: 1.49057806183469, R_b_y: 10.1780154776143, R_c_x: -9.00000000000000, R_c_y: -1.48743741577958, R_e_x: -9.00000000000000, R_e_y: 1.07179676972448, R_d: 3.74076581449594, R_f: 16.6602540378444}\n"
     ]
    },
    {
     "name": "stderr",
     "output_type": "stream",
     "text": [
      "C:\\Users\\Глебасс\\AppData\\Local\\Temp\\ipykernel_8464\\1728760958.py:3: SymPyDeprecationWarning: \n",
      "\n",
      "Eq(expr) with a single argument with the right-hand side\n",
      "defaulting to 0 is deprecated. Use Eq(expr, 0) instead.\n",
      "\n",
      "See https://docs.sympy.org/latest/explanation/active-deprecations.html#deprecated-eq-expr\n",
      "for details.\n",
      "\n",
      "This has been deprecated since SymPy version 1.5. It\n",
      "will be removed in a future version of SymPy.\n",
      "\n",
      "  Eq(R_a / np.sqrt(2) + R_b_x + R_c_x),\n"
     ]
    }
   ],
   "source": [
    "# solution of a system\n",
    "system = [\n",
    "       Eq(R_a / np.sqrt(2) + R_b_x + R_c_x),\n",
    "       Eq(R_a / np.sqrt(2) + R_b_y + R_c_y - P_1 - q * BC),\n",
    "       Eq(-AB * P_1 / 2 + AB * R_b_y + (AB + BC) * R_c_y - q * BC * BC / 2),\n",
    "       Eq(-R_c_x + R_e_x),\n",
    "       Eq(-R_c_y + R_d + R_e_y - (CD + DE) * q),\n",
    "       Eq(-q * (CD + DE) * (CD + DE) / 2 + R_d * CD + (CD + DE) * R_e_y),\n",
    "       Eq(-R_e_x - P_2 / 2),\n",
    "       Eq(-R_e_y - P_2 * np.sqrt(3) / 2 + R_f),\n",
    "       Eq(-M_1 - EK * P_2 * np.sqrt(3) / 2 + (EK + KF) * R_f)\n",
    "          ]\n",
    "ans = solve(system, (R_a, R_b_x, R_b_y, R_c_x, R_c_y, R_e_x, R_e_y, R_d, R_f))\n",
    "print(ans)"
   ],
   "metadata": {
    "collapsed": false
   }
  },
  {
   "cell_type": "markdown",
   "source": [
    "# Task 2"
   ],
   "metadata": {
    "collapsed": false
   }
  },
  {
   "cell_type": "code",
   "execution_count": 7,
   "outputs": [],
   "source": [
    "# constants\n",
    "a = 4\n",
    "b = 4.5\n",
    "c = 3.5\n",
    "G = 18\n",
    "P = 30\n",
    "alpha = np.arctan(a / c)\n",
    "beta = np.arctan(a / c)\n",
    "gamma = np.arctan(b / c)"
   ],
   "metadata": {
    "collapsed": false
   }
  },
  {
   "cell_type": "code",
   "execution_count": 8,
   "outputs": [],
   "source": [
    "# variables\n",
    "R_1, R_2, R_3, R_4, R_5, R_6 = symbols('R_1 R_2 R_3 R_4 R_5 R_6',\n",
    "                                       real=True)"
   ],
   "metadata": {
    "collapsed": false
   }
  },
  {
   "cell_type": "code",
   "execution_count": 9,
   "outputs": [
    {
     "name": "stderr",
     "output_type": "stream",
     "text": [
      "C:\\Users\\Глебасс\\AppData\\Local\\Temp\\ipykernel_8464\\58657661.py:3: SymPyDeprecationWarning: \n",
      "\n",
      "Eq(expr) with a single argument with the right-hand side\n",
      "defaulting to 0 is deprecated. Use Eq(expr, 0) instead.\n",
      "\n",
      "See https://docs.sympy.org/latest/explanation/active-deprecations.html#deprecated-eq-expr\n",
      "for details.\n",
      "\n",
      "This has been deprecated since SymPy version 1.5. It\n",
      "will be removed in a future version of SymPy.\n",
      "\n",
      "  Eq(-R_6 * np.sin(beta) - R_4 * np.sin(alpha)),\n"
     ]
    },
    {
     "name": "stdout",
     "output_type": "stream",
     "text": [
      "{R_1: 40.5833333333334, R_2: -38.0058475033046, R_3: -24.5563076264591, R_4: 39.8630467977550, R_5: -10.6936923735410, R_6: -39.8630467977550}\n"
     ]
    }
   ],
   "source": [
    "# solution of the system\n",
    "system = [\n",
    "    Eq(-R_6 * np.sin(beta) - R_4 * np.sin(alpha)),\n",
    "    Eq(R_2 * np.sin(gamma) + P),\n",
    "    Eq(-G - R_1 - R_6 * np.cos(beta) - R_2 * np.cos(gamma) - R_3\n",
    "       - R_4 * np.cos(alpha) - R_5),\n",
    "    Eq(-G * b / 2 - R_3 * b - R_5 * b - R_4 * np.cos(alpha) * b\n",
    "       - R_2 * np.sin(gamma) * c - P * c),\n",
    "    Eq(G * a / 2 + R_3 * a + a * R_4 * np.cos(alpha) -\n",
    "       c * R_4 * np.sin(alpha) - c * R_6 * np.sin(beta)\n",
    "       + a * R_1 + a * R_6 * np.cos(beta) + a * R_2 * np.cos(alpha)),\n",
    "    Eq(a * R_4 * np.sin(alpha) + a * R_2 * np.sin(gamma)),\n",
    "]\n",
    "ans = solve(system, (R_1, R_2, R_3, R_4, R_5, R_6))\n",
    "print(ans)\n"
   ],
   "metadata": {
    "collapsed": false
   }
  }
 ],
 "metadata": {
  "kernelspec": {
   "display_name": "Python 3",
   "language": "python",
   "name": "python3"
  },
  "language_info": {
   "codemirror_mode": {
    "name": "ipython",
    "version": 2
   },
   "file_extension": ".py",
   "mimetype": "text/x-python",
   "name": "python",
   "nbconvert_exporter": "python",
   "pygments_lexer": "ipython2",
   "version": "2.7.6"
  }
 },
 "nbformat": 4,
 "nbformat_minor": 0
}
